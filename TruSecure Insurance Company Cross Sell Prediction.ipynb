{
 "cells": [
  {
   "cell_type": "markdown",
   "metadata": {},
   "source": [
    "# Insurance Cross Sell Prediction\n",
    "## Project Plan\n",
    "This project aims at building a model to predict whether the policy holders clients from past year will also be interested in Vehicle Insurance provided by the company.\n",
    "## Business Problem\n",
    "TruSecure insurance company is looking to expand its services by offering vehicle insurance policies. The company needs help in developing a predictive model to determine whether existing health insurance policyholders are likely to show interest in purchasing a vehicle insurance policy as well.\n",
    "\n",
    "To support this business goal,  analyze customer data from the past year — including demographics, risk indicators, and policy history — to build a reliable model that predicts conversion likelihood. In addition to predictive modeling, provide business insights and strategic recommendations to help the company design effective marketing campaigns and ensure that policy offerings are inclusive, fair, and aligned with customer behavior.\n",
    "## Business Objectives\n",
    "\n",
    "1.**Identify Key Factors Influencing Purchase Decisions**   \n",
    "\n",
    "\n",
    "Analyze the most important features (e.g., age, gender, policy channel, vehicle damage) that influence customer decisions to buy vehicle insurance.                                                                                                                                                                                                                                            \n",
    "2.**Segment Customers for Targeted Marketing**                                                                        \n",
    "Group customers into meaningful segments based on age, risk indicators, and policy history to improve marketing efficiency.\n",
    "\n",
    "3.**Predict whether a customer will respond positively to an insurance offer**                                                                               \n",
    "Develop a predictive model to determine whether a customer is likely to purchase a vehicle insurance policy based on demographic and historical data.\n",
    "\n",
    "4.**Provide Actionable Business Insights**\n",
    "Recommend data-driven strategies for improving cross-sell conversion rates and optimizing policy offerings and sales channels\n"
   ]
  },
  {
   "cell_type": "markdown",
   "metadata": {},
   "source": [
    "## Data Overview\n",
    "The Dataset used in this project is Health Insurance Cross Sell Prediction dataset which is availale in kaggle.\n",
    "It contains important information about past clients details that may influence their decisions to purchasing vehicle insurance.\n",
    "The dataset has 508,146 row and 12 columns. However, for effective modelling, the dataset has been divided into training dataset and testing dataset. The testing dataset therefore lacks our target column which is \" Response\" column ,\n",
    "Some of the Key columns include:\n",
    "1. Gender - Gender of Client\n",
    "2. Age - Age of client\n",
    "3. Driving_License - Whether the client has Driving licences or not. Yes = 1 and No = 0\n",
    "4. Region_Code - The Region Code where the client is located\n",
    "5. Previously_Insured - Whether the client had been previously insured by our company. Yes =1 and No = 0\n",
    "6. Vehicle_Age - Whether vehicle age is above 2 years, between 1 and 2 years and below 1 year\n",
    "7. Vehicle_Damage - whether client had damaged vehicle Yes/No\n",
    "8. Annual_Premium - The total amount of money the client should pay per year.\n",
    "9. Policy_Sales_Channel\t- The channel used to engage and get response from clients. It is represented by anonimous code\n",
    "10. Vintage - The number of days the client has been registered in the company\n",
    "11. Response - This is the positive or negative response by the client. Positive response = 1 and negative response = 0\n"
   ]
  },
  {
   "cell_type": "markdown",
   "metadata": {},
   "source": [
    "### Load the datasets using Pandas"
   ]
  },
  {
   "cell_type": "code",
   "execution_count": 2,
   "metadata": {},
   "outputs": [],
   "source": [
    "import pandas as pd\n",
    "train_df=pd.read_csv('train.csv')\n",
    "test_df=pd.read_csv('test.csv')\n",
    "\n",
    "#submission_df=pd.read_csv('sample_submission.csv')\n"
   ]
  },
  {
   "cell_type": "code",
   "execution_count": 3,
   "metadata": {},
   "outputs": [
    {
     "data": {
      "text/html": [
       "<div>\n",
       "<style scoped>\n",
       "    .dataframe tbody tr th:only-of-type {\n",
       "        vertical-align: middle;\n",
       "    }\n",
       "\n",
       "    .dataframe tbody tr th {\n",
       "        vertical-align: top;\n",
       "    }\n",
       "\n",
       "    .dataframe thead th {\n",
       "        text-align: right;\n",
       "    }\n",
       "</style>\n",
       "<table border=\"1\" class=\"dataframe\">\n",
       "  <thead>\n",
       "    <tr style=\"text-align: right;\">\n",
       "      <th></th>\n",
       "      <th>id</th>\n",
       "      <th>Gender</th>\n",
       "      <th>Age</th>\n",
       "      <th>Driving_License</th>\n",
       "      <th>Region_Code</th>\n",
       "      <th>Previously_Insured</th>\n",
       "      <th>Vehicle_Age</th>\n",
       "      <th>Vehicle_Damage</th>\n",
       "      <th>Annual_Premium</th>\n",
       "      <th>Policy_Sales_Channel</th>\n",
       "      <th>Vintage</th>\n",
       "      <th>Response</th>\n",
       "    </tr>\n",
       "  </thead>\n",
       "  <tbody>\n",
       "    <tr>\n",
       "      <th>0</th>\n",
       "      <td>1</td>\n",
       "      <td>Male</td>\n",
       "      <td>44</td>\n",
       "      <td>1</td>\n",
       "      <td>28.0</td>\n",
       "      <td>0</td>\n",
       "      <td>&gt; 2 Years</td>\n",
       "      <td>Yes</td>\n",
       "      <td>40454.0</td>\n",
       "      <td>26.0</td>\n",
       "      <td>217</td>\n",
       "      <td>1</td>\n",
       "    </tr>\n",
       "    <tr>\n",
       "      <th>1</th>\n",
       "      <td>2</td>\n",
       "      <td>Male</td>\n",
       "      <td>76</td>\n",
       "      <td>1</td>\n",
       "      <td>3.0</td>\n",
       "      <td>0</td>\n",
       "      <td>1-2 Year</td>\n",
       "      <td>No</td>\n",
       "      <td>33536.0</td>\n",
       "      <td>26.0</td>\n",
       "      <td>183</td>\n",
       "      <td>0</td>\n",
       "    </tr>\n",
       "    <tr>\n",
       "      <th>2</th>\n",
       "      <td>3</td>\n",
       "      <td>Male</td>\n",
       "      <td>47</td>\n",
       "      <td>1</td>\n",
       "      <td>28.0</td>\n",
       "      <td>0</td>\n",
       "      <td>&gt; 2 Years</td>\n",
       "      <td>Yes</td>\n",
       "      <td>38294.0</td>\n",
       "      <td>26.0</td>\n",
       "      <td>27</td>\n",
       "      <td>1</td>\n",
       "    </tr>\n",
       "    <tr>\n",
       "      <th>3</th>\n",
       "      <td>4</td>\n",
       "      <td>Male</td>\n",
       "      <td>21</td>\n",
       "      <td>1</td>\n",
       "      <td>11.0</td>\n",
       "      <td>1</td>\n",
       "      <td>&lt; 1 Year</td>\n",
       "      <td>No</td>\n",
       "      <td>28619.0</td>\n",
       "      <td>152.0</td>\n",
       "      <td>203</td>\n",
       "      <td>0</td>\n",
       "    </tr>\n",
       "    <tr>\n",
       "      <th>4</th>\n",
       "      <td>5</td>\n",
       "      <td>Female</td>\n",
       "      <td>29</td>\n",
       "      <td>1</td>\n",
       "      <td>41.0</td>\n",
       "      <td>1</td>\n",
       "      <td>&lt; 1 Year</td>\n",
       "      <td>No</td>\n",
       "      <td>27496.0</td>\n",
       "      <td>152.0</td>\n",
       "      <td>39</td>\n",
       "      <td>0</td>\n",
       "    </tr>\n",
       "  </tbody>\n",
       "</table>\n",
       "</div>"
      ],
      "text/plain": [
       "   id  Gender  Age  Driving_License  Region_Code  Previously_Insured  \\\n",
       "0   1    Male   44                1         28.0                   0   \n",
       "1   2    Male   76                1          3.0                   0   \n",
       "2   3    Male   47                1         28.0                   0   \n",
       "3   4    Male   21                1         11.0                   1   \n",
       "4   5  Female   29                1         41.0                   1   \n",
       "\n",
       "  Vehicle_Age Vehicle_Damage  Annual_Premium  Policy_Sales_Channel  Vintage  \\\n",
       "0   > 2 Years            Yes         40454.0                  26.0      217   \n",
       "1    1-2 Year             No         33536.0                  26.0      183   \n",
       "2   > 2 Years            Yes         38294.0                  26.0       27   \n",
       "3    < 1 Year             No         28619.0                 152.0      203   \n",
       "4    < 1 Year             No         27496.0                 152.0       39   \n",
       "\n",
       "   Response  \n",
       "0         1  \n",
       "1         0  \n",
       "2         1  \n",
       "3         0  \n",
       "4         0  "
      ]
     },
     "execution_count": 3,
     "metadata": {},
     "output_type": "execute_result"
    }
   ],
   "source": [
    "# Display the First 5 rows of train data set\n",
    "train_df.head()"
   ]
  },
  {
   "cell_type": "code",
   "execution_count": 4,
   "metadata": {},
   "outputs": [
    {
     "data": {
      "text/html": [
       "<div>\n",
       "<style scoped>\n",
       "    .dataframe tbody tr th:only-of-type {\n",
       "        vertical-align: middle;\n",
       "    }\n",
       "\n",
       "    .dataframe tbody tr th {\n",
       "        vertical-align: top;\n",
       "    }\n",
       "\n",
       "    .dataframe thead th {\n",
       "        text-align: right;\n",
       "    }\n",
       "</style>\n",
       "<table border=\"1\" class=\"dataframe\">\n",
       "  <thead>\n",
       "    <tr style=\"text-align: right;\">\n",
       "      <th></th>\n",
       "      <th>id</th>\n",
       "      <th>Gender</th>\n",
       "      <th>Age</th>\n",
       "      <th>Driving_License</th>\n",
       "      <th>Region_Code</th>\n",
       "      <th>Previously_Insured</th>\n",
       "      <th>Vehicle_Age</th>\n",
       "      <th>Vehicle_Damage</th>\n",
       "      <th>Annual_Premium</th>\n",
       "      <th>Policy_Sales_Channel</th>\n",
       "      <th>Vintage</th>\n",
       "    </tr>\n",
       "  </thead>\n",
       "  <tbody>\n",
       "    <tr>\n",
       "      <th>0</th>\n",
       "      <td>381110</td>\n",
       "      <td>Male</td>\n",
       "      <td>25</td>\n",
       "      <td>1</td>\n",
       "      <td>11.0</td>\n",
       "      <td>1</td>\n",
       "      <td>&lt; 1 Year</td>\n",
       "      <td>No</td>\n",
       "      <td>35786.0</td>\n",
       "      <td>152.0</td>\n",
       "      <td>53</td>\n",
       "    </tr>\n",
       "    <tr>\n",
       "      <th>1</th>\n",
       "      <td>381111</td>\n",
       "      <td>Male</td>\n",
       "      <td>40</td>\n",
       "      <td>1</td>\n",
       "      <td>28.0</td>\n",
       "      <td>0</td>\n",
       "      <td>1-2 Year</td>\n",
       "      <td>Yes</td>\n",
       "      <td>33762.0</td>\n",
       "      <td>7.0</td>\n",
       "      <td>111</td>\n",
       "    </tr>\n",
       "    <tr>\n",
       "      <th>2</th>\n",
       "      <td>381112</td>\n",
       "      <td>Male</td>\n",
       "      <td>47</td>\n",
       "      <td>1</td>\n",
       "      <td>28.0</td>\n",
       "      <td>0</td>\n",
       "      <td>1-2 Year</td>\n",
       "      <td>Yes</td>\n",
       "      <td>40050.0</td>\n",
       "      <td>124.0</td>\n",
       "      <td>199</td>\n",
       "    </tr>\n",
       "    <tr>\n",
       "      <th>3</th>\n",
       "      <td>381113</td>\n",
       "      <td>Male</td>\n",
       "      <td>24</td>\n",
       "      <td>1</td>\n",
       "      <td>27.0</td>\n",
       "      <td>1</td>\n",
       "      <td>&lt; 1 Year</td>\n",
       "      <td>Yes</td>\n",
       "      <td>37356.0</td>\n",
       "      <td>152.0</td>\n",
       "      <td>187</td>\n",
       "    </tr>\n",
       "    <tr>\n",
       "      <th>4</th>\n",
       "      <td>381114</td>\n",
       "      <td>Male</td>\n",
       "      <td>27</td>\n",
       "      <td>1</td>\n",
       "      <td>28.0</td>\n",
       "      <td>1</td>\n",
       "      <td>&lt; 1 Year</td>\n",
       "      <td>No</td>\n",
       "      <td>59097.0</td>\n",
       "      <td>152.0</td>\n",
       "      <td>297</td>\n",
       "    </tr>\n",
       "  </tbody>\n",
       "</table>\n",
       "</div>"
      ],
      "text/plain": [
       "       id Gender  Age  Driving_License  Region_Code  Previously_Insured  \\\n",
       "0  381110   Male   25                1         11.0                   1   \n",
       "1  381111   Male   40                1         28.0                   0   \n",
       "2  381112   Male   47                1         28.0                   0   \n",
       "3  381113   Male   24                1         27.0                   1   \n",
       "4  381114   Male   27                1         28.0                   1   \n",
       "\n",
       "  Vehicle_Age Vehicle_Damage  Annual_Premium  Policy_Sales_Channel  Vintage  \n",
       "0    < 1 Year             No         35786.0                 152.0       53  \n",
       "1    1-2 Year            Yes         33762.0                   7.0      111  \n",
       "2    1-2 Year            Yes         40050.0                 124.0      199  \n",
       "3    < 1 Year            Yes         37356.0                 152.0      187  \n",
       "4    < 1 Year             No         59097.0                 152.0      297  "
      ]
     },
     "execution_count": 4,
     "metadata": {},
     "output_type": "execute_result"
    }
   ],
   "source": [
    "# Display the First 5 rows of test data set\n",
    "test_df.head()"
   ]
  },
  {
   "cell_type": "code",
   "execution_count": 5,
   "metadata": {},
   "outputs": [
    {
     "name": "stdout",
     "output_type": "stream",
     "text": [
      "<class 'pandas.core.frame.DataFrame'>\n",
      "RangeIndex: 381109 entries, 0 to 381108\n",
      "Data columns (total 12 columns):\n",
      " #   Column                Non-Null Count   Dtype  \n",
      "---  ------                --------------   -----  \n",
      " 0   id                    381109 non-null  int64  \n",
      " 1   Gender                381109 non-null  object \n",
      " 2   Age                   381109 non-null  int64  \n",
      " 3   Driving_License       381109 non-null  int64  \n",
      " 4   Region_Code           381109 non-null  float64\n",
      " 5   Previously_Insured    381109 non-null  int64  \n",
      " 6   Vehicle_Age           381109 non-null  object \n",
      " 7   Vehicle_Damage        381109 non-null  object \n",
      " 8   Annual_Premium        381109 non-null  float64\n",
      " 9   Policy_Sales_Channel  381109 non-null  float64\n",
      " 10  Vintage               381109 non-null  int64  \n",
      " 11  Response              381109 non-null  int64  \n",
      "dtypes: float64(3), int64(6), object(3)\n",
      "memory usage: 34.9+ MB\n"
     ]
    }
   ],
   "source": [
    "# Lets check information about the data types and general information of train dataset\n",
    "train_df.info()"
   ]
  },
  {
   "cell_type": "markdown",
   "metadata": {},
   "source": [
    "From the above, we realize that we have categorical data ( Dtype = object ) that we must encode so that it may those columns for modelling."
   ]
  },
  {
   "cell_type": "markdown",
   "metadata": {},
   "source": [
    "### Check for null values and duplicates"
   ]
  },
  {
   "cell_type": "code",
   "execution_count": 6,
   "metadata": {},
   "outputs": [
    {
     "data": {
      "text/plain": [
       "{'null_values': id                      0\n",
       " Gender                  0\n",
       " Age                     0\n",
       " Driving_License         0\n",
       " Region_Code             0\n",
       " Previously_Insured      0\n",
       " Vehicle_Age             0\n",
       " Vehicle_Damage          0\n",
       " Annual_Premium          0\n",
       " Policy_Sales_Channel    0\n",
       " Vintage                 0\n",
       " Response                0\n",
       " dtype: int64,\n",
       " 'duplicate_count': 0}"
      ]
     },
     "execution_count": 6,
     "metadata": {},
     "output_type": "execute_result"
    }
   ],
   "source": [
    "\n",
    "def check_dupli_null(train_df):\n",
    "    null_values = train_df.isnull().sum()\n",
    "    duplicates = train_df.duplicated().sum()\n",
    "    \n",
    "    return {\n",
    "        \"null_values\": null_values,\n",
    "        \"duplicate_count\": duplicates\n",
    "    }\n",
    "\n",
    "check_dupli_null(train_df)"
   ]
  },
  {
   "cell_type": "markdown",
   "metadata": {},
   "source": [
    "Our data was clean with no missing values and ndo duplicates also, so we will go directly to **Explanatory Data Analysis**"
   ]
  },
  {
   "cell_type": "markdown",
   "metadata": {},
   "source": [
    "## Explanatory Data Analysis"
   ]
  },
  {
   "cell_type": "markdown",
   "metadata": {},
   "source": [
    "Before we begin with the analysis, we can check the distribution of some features such as age."
   ]
  },
  {
   "cell_type": "code",
   "execution_count": 7,
   "metadata": {},
   "outputs": [
    {
     "data": {
      "image/png": "[encoded data removed]",
      "text/plain": [
       "<Figure size 576x432 with 1 Axes>"
      ]
     },
     "metadata": {
      "needs_background": "light"
     },
     "output_type": "display_data"
    }
   ],
   "source": [
    "import seaborn as sns\n",
    "import matplotlib.pyplot as plt\n",
    "\n",
    "plt.figure(figsize=(8,6))\n",
    "sns.histplot(train_df['Age'],bins = 30, kde = True)\n",
    "\n",
    "plt.xlabel(\"age\")\n",
    "plt.ylabel(\"count\")\n",
    "plt.title(\"Age Distribution\")\n",
    "plt.show()"
   ]
  },
  {
   "cell_type": "markdown",
   "metadata": {},
   "source": [
    "**Intepretation**                                                                                                               \n",
    "Right-skewed Distribution:\n",
    "* The majority of the population is concentrated at younger ages, especially in the 20–30 range.\n",
    "* The count sharply peaks near age 23–25 and then gradually declines.\n",
    "* However, there are smaller peaks (bumps) around ages 40–50 and 60, indicating possible subgroups or cohorts in those age ranges.                                                                                                                     \n",
    "\n",
    "Therefore, when performing modelling we should consider doing log transformation to Age column so that we reshape its distribution or enhance model performance."
   ]
  },
  {
   "cell_type": "code",
   "execution_count": 8,
   "metadata": {},
   "outputs": [
    {
     "data": {
      "image/png": "[encoded data removed]",
      "text/plain": [
       "<Figure size 864x360 with 2 Axes>"
      ]
     },
     "metadata": {
      "needs_background": "light"
     },
     "output_type": "display_data"
    }
   ],
   "source": [
    "\n",
    "\n",
    "#histgram of distribution of Annual_Premium\n",
    "plt.figure(figsize=(12,5))\n",
    "plt.subplot(1,2,1)\n",
    "sns.histplot(x=train_df['Annual_Premium'],bins = 30, kde = True)\n",
    "\n",
    "plt.xlabel(\"Annual_Premium\")\n",
    "plt.ylabel(\"count\")\n",
    "plt.title(\"Annual_Premium Distribution\")\n",
    "\n",
    "# Boxplot for Annual_premium\n",
    "plt.subplot(1,2,2)\n",
    "sns.boxplot(x=train_df['Annual_Premium'],color=\"lightcoral\")\n",
    "plt.xlabel(\"Annual_Premium\")\n",
    "plt.ylabel(\"count\")\n",
    "plt.title(\"Annual_Premium Distribution\")\n",
    "\n",
    "\n",
    "plt.tight_layout()\n",
    "plt.show()"
   ]
  },
  {
   "cell_type": "markdown",
   "metadata": {},
   "source": [
    "#### Check for Outliers in the Annual_premium column"
   ]
  },
  {
   "cell_type": "code",
   "execution_count": 9,
   "metadata": {},
   "outputs": [
    {
     "name": "stdout",
     "output_type": "stream",
     "text": [
      "Number of outliers: 10320\n",
      "Percentage of outliers: 2.71%\n"
     ]
    }
   ],
   "source": [
    "Q1 = train_df['Annual_Premium'].quantile(0.25)\n",
    "Q3 = train_df['Annual_Premium'].quantile(0.75)\n",
    "IQR = Q3 - Q1\n",
    "\n",
    "# Define outlier thresholds\n",
    "lower_bound = Q1 - 1.5 * IQR\n",
    "upper_bound = Q3 + 1.5 * IQR\n",
    "\n",
    "# Find outliers\n",
    "outliers = train_df[(train_df['Annual_Premium'] < lower_bound) | (train_df['Annual_Premium'] > upper_bound)]\n",
    "\n",
    "print(f\"Number of outliers: {len(outliers)}\")\n",
    "print(f\"Percentage of outliers: {100 * len(outliers) / len(train_df):.2f}%\")\n"
   ]
  },
  {
   "cell_type": "markdown",
   "metadata": {},
   "source": [
    "#### Since we have some outliers we can decide to deal with them through Cap (Winsorize).\n",
    " This is replacing the extreme values with upper/lower bounds"
   ]
  },
  {
   "cell_type": "code",
   "execution_count": 10,
   "metadata": {},
   "outputs": [],
   "source": [
    "train_df['Annual_Premium_Capped'] = train_df['Annual_Premium'].clip(lower=lower_bound, upper=upper_bound)\n",
    "test_df['Annual_Premium_Capped'] = test_df['Annual_Premium'].clip(lower=lower_bound, upper=upper_bound)\n"
   ]
  },
  {
   "cell_type": "markdown",
   "metadata": {},
   "source": [
    "#### For Easier Checking of Outliers in other columns, let's create a fuction for detecting If present"
   ]
  },
  {
   "cell_type": "code",
   "execution_count": 11,
   "metadata": {},
   "outputs": [],
   "source": [
    "def check_outliers(df, feature):\n",
    "    \"\"\"\n",
    "    Checks for outliers in a given feature using the IQR method.\n",
    "    \n",
    "    Parameters:\n",
    "    - df: DataFrame\n",
    "    - feature: Column name (string)\n",
    "    \n",
    "    Prints:\n",
    "    - Number and percentage of outliers\n",
    "    - IQR bounds used for detection\n",
    "    \"\"\"\n",
    "    Q1 = df[feature].quantile(0.25)\n",
    "    Q3 = df[feature].quantile(0.75)\n",
    "    IQR = Q3 - Q1\n",
    "    lower_bound = Q1 - 1.5 * IQR\n",
    "    upper_bound = Q3 + 1.5 * IQR\n",
    "\n",
    "    outliers = df[(df[feature] < lower_bound) | (df[feature] > upper_bound)]\n",
    "    \n",
    "    print(f\"Feature: {feature}\")\n",
    "    print(f\"Number of outliers: {len(outliers)}\")\n",
    "    print(f\"Percentage of outliers: {100 * len(outliers) / len(df):.2f}%\")\n",
    "    print(f\"IQR bounds: [{lower_bound:.2f}, {upper_bound:.2f}]\")\n"
   ]
  },
  {
   "cell_type": "code",
   "execution_count": 12,
   "metadata": {},
   "outputs": [
    {
     "name": "stdout",
     "output_type": "stream",
     "text": [
      "Feature: Age\n",
      "Number of outliers: 0\n",
      "Percentage of outliers: 0.00%\n",
      "IQR bounds: [-11.00, 85.00]\n"
     ]
    }
   ],
   "source": [
    "check_outliers(train_df,\"Age\")\n"
   ]
  },
  {
   "cell_type": "markdown",
   "metadata": {},
   "source": [
    "### 1. Group  insurance status and Annual_premium level to check the customer response rate."
   ]
  },
  {
   "cell_type": "code",
   "execution_count": 13,
   "metadata": {},
   "outputs": [
    {
     "data": {
      "text/html": [
       "<div>\n",
       "<style scoped>\n",
       "    .dataframe tbody tr th:only-of-type {\n",
       "        vertical-align: middle;\n",
       "    }\n",
       "\n",
       "    .dataframe tbody tr th {\n",
       "        vertical-align: top;\n",
       "    }\n",
       "\n",
       "    .dataframe thead th {\n",
       "        text-align: right;\n",
       "    }\n",
       "</style>\n",
       "<table border=\"1\" class=\"dataframe\">\n",
       "  <thead>\n",
       "    <tr style=\"text-align: right;\">\n",
       "      <th></th>\n",
       "      <th>Region_Code</th>\n",
       "      <th>Previously_Insured</th>\n",
       "      <th>Premium_Bin</th>\n",
       "      <th>Lead_Count</th>\n",
       "      <th>Response_Rate</th>\n",
       "    </tr>\n",
       "  </thead>\n",
       "  <tbody>\n",
       "    <tr>\n",
       "      <th>387</th>\n",
       "      <td>48.0</td>\n",
       "      <td>0</td>\n",
       "      <td>Very High</td>\n",
       "      <td>1</td>\n",
       "      <td>1.000000</td>\n",
       "    </tr>\n",
       "    <tr>\n",
       "      <th>10</th>\n",
       "      <td>1.0</td>\n",
       "      <td>0</td>\n",
       "      <td>High</td>\n",
       "      <td>1</td>\n",
       "      <td>1.000000</td>\n",
       "    </tr>\n",
       "    <tr>\n",
       "      <th>251</th>\n",
       "      <td>31.0</td>\n",
       "      <td>0</td>\n",
       "      <td>Very High</td>\n",
       "      <td>1</td>\n",
       "      <td>1.000000</td>\n",
       "    </tr>\n",
       "    <tr>\n",
       "      <th>162</th>\n",
       "      <td>20.0</td>\n",
       "      <td>0</td>\n",
       "      <td>High</td>\n",
       "      <td>3</td>\n",
       "      <td>0.666667</td>\n",
       "    </tr>\n",
       "    <tr>\n",
       "      <th>3</th>\n",
       "      <td>0.0</td>\n",
       "      <td>0</td>\n",
       "      <td>Very High</td>\n",
       "      <td>10</td>\n",
       "      <td>0.600000</td>\n",
       "    </tr>\n",
       "  </tbody>\n",
       "</table>\n",
       "</div>"
      ],
      "text/plain": [
       "     Region_Code  Previously_Insured Premium_Bin  Lead_Count  Response_Rate\n",
       "387         48.0                   0   Very High           1       1.000000\n",
       "10           1.0                   0        High           1       1.000000\n",
       "251         31.0                   0   Very High           1       1.000000\n",
       "162         20.0                   0        High           3       0.666667\n",
       "3            0.0                   0   Very High          10       0.600000"
      ]
     },
     "execution_count": 13,
     "metadata": {},
     "output_type": "execute_result"
    }
   ],
   "source": [
    "\n",
    "\n",
    "#  First, Bin the Annual_Premium to make grouping more meaningful\n",
    "train_df['Premium_Bin'] = pd.qcut(train_df['Annual_Premium'], q=4, labels=['Low', 'Medium', 'High', 'Very High'])\n",
    "\n",
    "# Group by Region_Code, Previously_Insured, and Premium_Bin\n",
    "grouped = train_df.groupby(['Region_Code', 'Previously_Insured', 'Premium_Bin'])['Response'].agg(['count', 'mean']).reset_index()\n",
    "\n",
    "# Rename columns for clarity\n",
    "grouped.columns = ['Region_Code', 'Previously_Insured', 'Premium_Bin', 'Lead_Count', 'Response_Rate']\n",
    "\n",
    "# Sort to see highest response groups first\n",
    "grouped_sorted = grouped.sort_values(by='Response_Rate', ascending=False)\n",
    "\n",
    "# Display top rows\n",
    "grouped_sorted.head()\n"
   ]
  },
  {
   "cell_type": "code",
   "execution_count": 85,
   "metadata": {},
   "outputs": [],
   "source": [
    "grouped.to_csv('premium_region_insurance_summary.csv', index=False)\n"
   ]
  },
  {
   "cell_type": "code",
   "execution_count": 14,
   "metadata": {},
   "outputs": [
    {
     "data": {
      "image/png": "[encoded data removed]",
      "text/plain": [
       "<Figure size 1008x432 with 1 Axes>"
      ]
     },
     "metadata": {
      "needs_background": "light"
     },
     "output_type": "display_data"
    }
   ],
   "source": [
    "\n",
    "grouped = (\n",
    "    train_df.groupby(['Region_Code', 'Previously_Insured', 'Premium_Bin'])['Response']\n",
    "    .agg(['count', 'mean'])\n",
    "    .reset_index()\n",
    "    .rename(columns={'count': 'Lead_Count', 'mean': 'Response_Rate'})\n",
    ")\n",
    "\n",
    "# Plotting: Response Rate by Premium Bin and Previously Insured status\n",
    "plt.figure(figsize=(14, 6))\n",
    "sns.barplot(\n",
    "    data=grouped,\n",
    "    x='Premium_Bin',\n",
    "    y='Response_Rate',\n",
    "    hue='Previously_Insured',\n",
    "    ci=None\n",
    ")\n",
    "\n",
    "plt.title('Response Rate by Premium Bin and Insurance Status')\n",
    "plt.ylabel('Response Rate')\n",
    "plt.xlabel('Annual Premium Bin')\n",
    "plt.legend(title='Previously Insured')\n",
    "plt.tight_layout()\n",
    "plt.show()\n"
   ]
  },
  {
   "cell_type": "code",
   "execution_count": 15,
   "metadata": {},
   "outputs": [
    {
     "data": {
      "image/png": "[encoded data removed]",
      "text/plain": [
       "<Figure size 963.375x576 with 6 Axes>"
      ]
     },
     "metadata": {
      "needs_background": "light"
     },
     "output_type": "display_data"
    }
   ],
   "source": [
    "\n",
    "\n",
    "# Only show top N most populated regions to keep things readable\n",
    "top_regions = (\n",
    "    grouped.groupby('Region_Code')['Lead_Count']\n",
    "    .sum()\n",
    "    .sort_values(ascending=False)\n",
    "    .head(6)  # choose how many regions to show\n",
    "    .index\n",
    ")\n",
    "\n",
    "# Filter to only those top regions\n",
    "filtered = grouped[grouped['Region_Code'].isin(top_regions)]\n",
    "\n",
    "# Set up FacetGrid\n",
    "g = sns.FacetGrid(\n",
    "    filtered,\n",
    "    col='Region_Code',\n",
    "    hue='Previously_Insured',\n",
    "    col_wrap=3,\n",
    "    height=4,\n",
    "    sharey=True\n",
    ")\n",
    "\n",
    "g.map(sns.barplot, 'Premium_Bin', 'Response_Rate', order=['Low', 'Medium', 'High', 'Very High'])\n",
    "g.add_legend(title=\"Previously Insured\")\n",
    "g.set_titles(\"Region {col_name}\")\n",
    "g.set_axis_labels(\"Premium Bin\", \"Response Rate\")\n",
    "\n",
    "plt.tight_layout()\n",
    "plt.show()\n"
   ]
  },
  {
   "cell_type": "markdown",
   "metadata": {},
   "source": [
    "### Findings \n",
    "From the abvove we see :                                                                                                    \n",
    "* Those that were not previously_Insured( Previously_Insured= 0) clients have significantly higher response rates than those already insured (Previously_Insured = 1).\n",
    "* In region code 28, clients with higher premium have higher response.\n",
    "* Region 15 have lower response rate at all premium stages\n",
    "\n",
    "Business implication:                                                                                             \n",
    "* Focus marketing on those not currently insured — they’re much more receptive to offers.                                  \n",
    "* Marketing can be increased in region 15 since they have a lower response rate yet top populated at all premium                levels.Discounts can be offered\n"
   ]
  },
  {
   "cell_type": "markdown",
   "metadata": {},
   "source": [
    "### 2. Top 10 Policy Sales Channels\n",
    "Let us see the top 10 performing channels"
   ]
  },
  {
   "cell_type": "code",
   "execution_count": 18,
   "metadata": {},
   "outputs": [
    {
     "data": {
      "image/png": "[encoded data removed]",
      "text/plain": [
       "<Figure size 720x360 with 1 Axes>"
      ]
     },
     "metadata": {
      "needs_background": "light"
     },
     "output_type": "display_data"
    }
   ],
   "source": [
    "plt.figure(figsize=(10, 5))\n",
    "sns.countplot(data=train_df, x='Policy_Sales_Channel', order=train_df['Policy_Sales_Channel'].value_counts().index[:10])\n",
    "plt.title(\"Top 10 Policy Sales Channels\")\n",
    "plt.xticks(rotation=45)\n",
    "plt.show()\n"
   ]
  },
  {
   "cell_type": "markdown",
   "metadata": {},
   "source": [
    "### Hypothesis Testing to Check if there is Statistical difference in response rate across channels\n",
    "**Null Hypothesis (H₀):**                                                                                                     \n",
    "The rate of response is the same across the top 10 policy sales channels.                                                       \n",
    "\n",
    "**Alternative Hypothesis (H₁):**                                                                                               \n",
    "At least one sales channel has a significantly different response rate."
   ]
  },
  {
   "cell_type": "code",
   "execution_count": 19,
   "metadata": {},
   "outputs": [
    {
     "name": "stdout",
     "output_type": "stream",
     "text": [
      "Chi2 Statistic: 25201.821917881323\n",
      "P-value: 0.0\n"
     ]
    }
   ],
   "source": [
    "from scipy.stats import chi2_contingency\n",
    "import pandas as pd\n",
    "top_10_channels = train_df['Policy_Sales_Channel'].value_counts().index[:10]\n",
    "df_top_channels = train_df[train_df['Policy_Sales_Channel'].isin(top_10_channels)]\n",
    "\n",
    "\n",
    "# Create a contingency table of channel vs response (0/1)\n",
    "contingency_table = pd.crosstab(df_top_channels['Policy_Sales_Channel'], df_top_channels['Response'])\n",
    "\n",
    "\n",
    "# Perform Chi-Square Test\n",
    "chi2, p, dof, expected = chi2_contingency(contingency_table)\n",
    "\n",
    "print(f\"Chi2 Statistic: {chi2}\")\n",
    "print(f\"P-value: {p}\")\n"
   ]
  },
  {
   "cell_type": "markdown",
   "metadata": {},
   "source": [
    "### Interpretation\n",
    "**We Reject the Null Hypothesis**                                                                                              \n",
    "From the above hypothesis testing, there is a statistically significant difference in response rates among the top 10 channels since our p value is less than our significance level of 0.05"
   ]
  },
  {
   "cell_type": "markdown",
   "metadata": {},
   "source": [
    "### Findings\n",
    "* Channel 152 is on the lead with high counts as well as higher response rate followed by Channel 26                                                               \n",
    "* This channels can be used for marketing in places whhere we have a lower response rate"
   ]
  },
  {
   "cell_type": "markdown",
   "metadata": {},
   "source": [
    "### 3. Response Rate By Age group and Gender\n",
    "First, we divide age into different Age groups and thereafter we group by gender to check how they correspond to response rate"
   ]
  },
  {
   "cell_type": "code",
   "execution_count": 22,
   "metadata": {},
   "outputs": [
    {
     "name": "stdout",
     "output_type": "stream",
     "text": [
      "     Age_Bin  Gender  Policy_Sales_Channel  Lead_Count  Response_Rate\n",
      "712      40s  Female                  97.0           1            1.0\n",
      "395      30s  Female                  90.0           1            1.0\n",
      "535      30s    Male                  73.0           1            1.0\n",
      "822      40s    Male                  49.0           1            1.0\n",
      "738      40s  Female                 123.0           1            1.0\n",
      "801      40s    Male                  28.0           1            1.0\n",
      "480      30s    Male                  17.0           1            1.0\n",
      "280      20s    Male                 130.0           1            1.0\n",
      "1462     60s    Male                  69.0           1            1.0\n",
      "550      30s    Male                  90.0           1            1.0\n"
     ]
    }
   ],
   "source": [
    "\n",
    "# Group by Age (binned), Gender, and Policy_Sales_Channel\n",
    "train_df['Age_Bin'] = pd.cut(train_df['Age'], bins=[20, 30, 40, 50, 60, 70], labels=['20s', '30s', '40s', '50s', '60s'])\n",
    "\n",
    "grouped = train_df.groupby(['Age_Bin', 'Gender', 'Policy_Sales_Channel'])['Response'].agg(['count', 'mean']).reset_index()\n",
    "grouped.rename(columns={'count': 'Lead_Count', 'mean': 'Response_Rate'}, inplace=True)\n",
    "\n",
    "# Show top rows\n",
    "print(grouped.sort_values(by='Response_Rate', ascending=False).head(10))\n"
   ]
  },
  {
   "cell_type": "markdown",
   "metadata": {},
   "source": []
  },
  {
   "cell_type": "code",
   "execution_count": 44,
   "metadata": {},
   "outputs": [
    {
     "data": {
      "image/png": "[encoded data removed]",
      "text/plain": [
       "<Figure size 864x432 with 1 Axes>"
      ]
     },
     "metadata": {
      "needs_background": "light"
     },
     "output_type": "display_data"
    }
   ],
   "source": [
    "\n",
    "\n",
    "# Create age bins\n",
    "train_df['Age_Bin'] = pd.cut(train_df['Age'], bins=[20, 30, 40, 50, 60, 70], labels=['20s', '30s', '40s', '50s', '60s'])\n",
    "test_df['Age_Bin'] = pd.cut(test_df['Age'], bins=[20, 30, 40, 50, 60, 70], labels=['20s', '30s', '40s', '50s', '60s'])\n",
    "\n",
    "# Filter top 5 most common policy channels (optional but helps readability)\n",
    "top_channels = train_df['Policy_Sales_Channel'].value_counts().head(5).index\n",
    "filtered_df = train_df[train_df['Policy_Sales_Channel'].isin(top_channels)]\n",
    "\n",
    "# Plot response rate by Age Group and Gender\n",
    "plt.figure(figsize=(12, 6))\n",
    "sns.barplot(\n",
    "    data=filtered_df,\n",
    "    x='Age_Bin',\n",
    "    y='Response',\n",
    "    hue='Gender',\n",
    "    ci=None\n",
    ")\n",
    "plt.title('Response Rate by Age Group and Gender')\n",
    "plt.xlabel('Age Group')\n",
    "plt.ylabel('Average Response Rate')\n",
    "plt.legend(title='Gender')\n",
    "plt.tight_layout()\n",
    "plt.show()\n"
   ]
  },
  {
   "cell_type": "markdown",
   "metadata": {},
   "source": [
    "### Findings\n",
    "1. Middle-aged groups (30s to 50s) show higher response rates                                                               \n",
    "* These age bins tend to have higher average response rates compared to the younger (20s) or older (60s) age groups.\n",
    "\n",
    "* These individuals may be more financially stable and likely to consider purchasing insurance.\n",
    "\n",
    "2. Gender differences are minimal.\n",
    "* However, men dominate the response rate.\n",
    "Our plot shows minimal difference, gender may not be a strong differentiator in overall conversion.\n",
    "\n",
    "3. 20s and 60s have the lowest response rates\n",
    "* Customers under 30 or over 60 are less likely to respond positively.\n",
    "* Younger individuals may feel less need for insurance.\n",
    "* Older individuals may already be insured or face premium/eligibility barriers.\n"
   ]
  },
  {
   "cell_type": "markdown",
   "metadata": {},
   "source": [
    "### 4. Region Code Vs Response\n",
    "We examine different regions and see how clients respond."
   ]
  },
  {
   "cell_type": "code",
   "execution_count": 28,
   "metadata": {},
   "outputs": [
    {
     "data": {
      "text/html": [
       "<div>\n",
       "<style scoped>\n",
       "    .dataframe tbody tr th:only-of-type {\n",
       "        vertical-align: middle;\n",
       "    }\n",
       "\n",
       "    .dataframe tbody tr th {\n",
       "        vertical-align: top;\n",
       "    }\n",
       "\n",
       "    .dataframe thead th {\n",
       "        text-align: right;\n",
       "    }\n",
       "</style>\n",
       "<table border=\"1\" class=\"dataframe\">\n",
       "  <thead>\n",
       "    <tr style=\"text-align: right;\">\n",
       "      <th></th>\n",
       "      <th>Region_Code</th>\n",
       "      <th>Lead_Count</th>\n",
       "      <th>Response_Rate</th>\n",
       "    </tr>\n",
       "  </thead>\n",
       "  <tbody>\n",
       "    <tr>\n",
       "      <th>38</th>\n",
       "      <td>38.0</td>\n",
       "      <td>2026</td>\n",
       "      <td>0.192004</td>\n",
       "    </tr>\n",
       "    <tr>\n",
       "      <th>28</th>\n",
       "      <td>28.0</td>\n",
       "      <td>106415</td>\n",
       "      <td>0.187163</td>\n",
       "    </tr>\n",
       "    <tr>\n",
       "      <th>19</th>\n",
       "      <td>19.0</td>\n",
       "      <td>1535</td>\n",
       "      <td>0.162866</td>\n",
       "    </tr>\n",
       "    <tr>\n",
       "      <th>4</th>\n",
       "      <td>4.0</td>\n",
       "      <td>1801</td>\n",
       "      <td>0.158245</td>\n",
       "    </tr>\n",
       "    <tr>\n",
       "      <th>23</th>\n",
       "      <td>23.0</td>\n",
       "      <td>1960</td>\n",
       "      <td>0.153061</td>\n",
       "    </tr>\n",
       "  </tbody>\n",
       "</table>\n",
       "</div>"
      ],
      "text/plain": [
       "    Region_Code  Lead_Count  Response_Rate\n",
       "38         38.0        2026       0.192004\n",
       "28         28.0      106415       0.187163\n",
       "19         19.0        1535       0.162866\n",
       "4           4.0        1801       0.158245\n",
       "23         23.0        1960       0.153061"
      ]
     },
     "execution_count": 28,
     "metadata": {},
     "output_type": "execute_result"
    }
   ],
   "source": [
    "region_response = train_df.groupby('Region_Code')['Response'].agg(['count', 'mean']).reset_index()\n",
    "region_response.columns = ['Region_Code', 'Lead_Count', 'Response_Rate']\n",
    "region_response = region_response.sort_values('Response_Rate', ascending=False)\n",
    "region_response.head()"
   ]
  },
  {
   "cell_type": "code",
   "execution_count": 29,
   "metadata": {},
   "outputs": [
    {
     "data": {
      "image/png": "[encoded data removed]",
      "text/plain": [
       "<Figure size 1008x432 with 1 Axes>"
      ]
     },
     "metadata": {
      "needs_background": "light"
     },
     "output_type": "display_data"
    }
   ],
   "source": [
    "region_top20 = region_response.sort_values(by='Response_Rate', ascending=False).head(20)\n",
    "\n",
    "# Plot\n",
    "plt.figure(figsize=(14, 6))\n",
    "sns.barplot(\n",
    "    data=region_top20,\n",
    "    x='Region_Code',\n",
    "    y='Response_Rate',\n",
    "    order=region_top20['Region_Code']\n",
    ")\n",
    "plt.xticks(rotation=45)\n",
    "plt.title('Top 20 Regions by Average Response Rate')\n",
    "plt.xlabel('Region Code')\n",
    "plt.ylabel('Average Response Rate')\n",
    "plt.tight_layout()\n",
    "plt.show()\n"
   ]
  },
  {
   "cell_type": "markdown",
   "metadata": {},
   "source": [
    "### Findings                                                                                                                                                        \n",
    "Region 38, 28, and 19 have the highest conversion or response rate                                                             \n",
    "Customers in those regions are more likely to purchase a policy.  \n",
    "\n",
    "**Insight and Recommended Action**          \n",
    "* These regions may have more receptive audiences, better-targeted marketing, or stronger sales agents.\n",
    "* Therefore, double down on these regions with more budget, salesforce allocation, or tailored campaigns.\n"
   ]
  },
  {
   "cell_type": "markdown",
   "metadata": {},
   "source": [
    "### Top 10 Policy Channels by Response Rate\n",
    "Finally on analysis, we examine which are the best perfoming channels to reach out to clients.                                                      \n",
    "The anonimous code represent channels such as emails or direct messages"
   ]
  },
  {
   "cell_type": "code",
   "execution_count": 30,
   "metadata": {},
   "outputs": [
    {
     "data": {
      "text/html": [
       "<div>\n",
       "<style scoped>\n",
       "    .dataframe tbody tr th:only-of-type {\n",
       "        vertical-align: middle;\n",
       "    }\n",
       "\n",
       "    .dataframe tbody tr th {\n",
       "        vertical-align: top;\n",
       "    }\n",
       "\n",
       "    .dataframe thead th {\n",
       "        text-align: right;\n",
       "    }\n",
       "</style>\n",
       "<table border=\"1\" class=\"dataframe\">\n",
       "  <thead>\n",
       "    <tr style=\"text-align: right;\">\n",
       "      <th></th>\n",
       "      <th>Policy_Sales_Channel</th>\n",
       "      <th>Lead_Count</th>\n",
       "      <th>Response_Rate</th>\n",
       "    </tr>\n",
       "  </thead>\n",
       "  <tbody>\n",
       "    <tr>\n",
       "      <th>118</th>\n",
       "      <td>123.0</td>\n",
       "      <td>1</td>\n",
       "      <td>1.000000</td>\n",
       "    </tr>\n",
       "    <tr>\n",
       "      <th>41</th>\n",
       "      <td>43.0</td>\n",
       "      <td>1</td>\n",
       "      <td>1.000000</td>\n",
       "    </tr>\n",
       "    <tr>\n",
       "      <th>25</th>\n",
       "      <td>27.0</td>\n",
       "      <td>3</td>\n",
       "      <td>0.333333</td>\n",
       "    </tr>\n",
       "    <tr>\n",
       "      <th>26</th>\n",
       "      <td>28.0</td>\n",
       "      <td>3</td>\n",
       "      <td>0.333333</td>\n",
       "    </tr>\n",
       "    <tr>\n",
       "      <th>34</th>\n",
       "      <td>36.0</td>\n",
       "      <td>52</td>\n",
       "      <td>0.326923</td>\n",
       "    </tr>\n",
       "  </tbody>\n",
       "</table>\n",
       "</div>"
      ],
      "text/plain": [
       "     Policy_Sales_Channel  Lead_Count  Response_Rate\n",
       "118                 123.0           1       1.000000\n",
       "41                   43.0           1       1.000000\n",
       "25                   27.0           3       0.333333\n",
       "26                   28.0           3       0.333333\n",
       "34                   36.0          52       0.326923"
      ]
     },
     "execution_count": 30,
     "metadata": {},
     "output_type": "execute_result"
    }
   ],
   "source": [
    "channel_summary = train_df.groupby('Policy_Sales_Channel')['Response'].agg(['count', 'mean']).reset_index()\n",
    "channel_summary.columns = ['Policy_Sales_Channel', 'Lead_Count', 'Response_Rate']\n",
    "channel_summary = channel_summary.sort_values('Response_Rate', ascending=False)\n",
    "channel_summary.head()"
   ]
  },
  {
   "cell_type": "code",
   "execution_count": 31,
   "metadata": {},
   "outputs": [
    {
     "data": {
      "image/png": "[encoded data removed]",
      "text/plain": [
       "<Figure size 720x432 with 1 Axes>"
      ]
     },
     "metadata": {
      "needs_background": "light"
     },
     "output_type": "display_data"
    }
   ],
   "source": [
    "\n",
    "top10_channels = channel_summary.sort_values('Response_Rate', ascending=False).head(10)\n",
    "\n",
    "# Plot\n",
    "\n",
    "plt.figure(figsize=(10, 6))\n",
    "sns.barplot(\n",
    "    data=top10_channels,\n",
    "    x='Policy_Sales_Channel',\n",
    "    y='Response_Rate',\n",
    "    palette='viridis',\n",
    "    order=top10_channels['Policy_Sales_Channel']  # Ensures descending order\n",
    ")\n",
    "plt.title('Top 10 Policy Sales Channels by Response Rate')\n",
    "plt.xlabel('Policy Sales Channel')\n",
    "plt.ylabel('Response Rate')\n",
    "plt.tight_layout()\n",
    "plt.show()\n"
   ]
  },
  {
   "cell_type": "markdown",
   "metadata": {},
   "source": [
    "#### Findings and interpretation\n",
    "* From the plot, channel 123 and 43 attract high number of customers.\n",
    "* Likely they are operated by more skilled or better-trained agents \n",
    "\n",
    "**Recommendation**                                                                                    \n",
    "Invest more in these channels, by boosting marketing expenditure, incentives, or priority access to these leads.\n",
    "\n"
   ]
  },
  {
   "cell_type": "markdown",
   "metadata": {},
   "source": [
    "# Modelling\n",
    "## Data Preprocessing"
   ]
  },
  {
   "cell_type": "code",
   "execution_count": 32,
   "metadata": {},
   "outputs": [
    {
     "data": {
      "text/html": [
       "<div>\n",
       "<style scoped>\n",
       "    .dataframe tbody tr th:only-of-type {\n",
       "        vertical-align: middle;\n",
       "    }\n",
       "\n",
       "    .dataframe tbody tr th {\n",
       "        vertical-align: top;\n",
       "    }\n",
       "\n",
       "    .dataframe thead th {\n",
       "        text-align: right;\n",
       "    }\n",
       "</style>\n",
       "<table border=\"1\" class=\"dataframe\">\n",
       "  <thead>\n",
       "    <tr style=\"text-align: right;\">\n",
       "      <th></th>\n",
       "      <th>id</th>\n",
       "      <th>Gender</th>\n",
       "      <th>Age</th>\n",
       "      <th>Driving_License</th>\n",
       "      <th>Region_Code</th>\n",
       "      <th>Previously_Insured</th>\n",
       "      <th>Vehicle_Age</th>\n",
       "      <th>Vehicle_Damage</th>\n",
       "      <th>Annual_Premium</th>\n",
       "      <th>Policy_Sales_Channel</th>\n",
       "      <th>Vintage</th>\n",
       "      <th>Response</th>\n",
       "      <th>Annual_Premium_Capped</th>\n",
       "      <th>Premium_Bin</th>\n",
       "      <th>Age_Bin</th>\n",
       "    </tr>\n",
       "  </thead>\n",
       "  <tbody>\n",
       "    <tr>\n",
       "      <th>0</th>\n",
       "      <td>1</td>\n",
       "      <td>Male</td>\n",
       "      <td>44</td>\n",
       "      <td>1</td>\n",
       "      <td>28.0</td>\n",
       "      <td>0</td>\n",
       "      <td>&gt; 2 Years</td>\n",
       "      <td>Yes</td>\n",
       "      <td>40454.0</td>\n",
       "      <td>26.0</td>\n",
       "      <td>217</td>\n",
       "      <td>1</td>\n",
       "      <td>40454.0</td>\n",
       "      <td>Very High</td>\n",
       "      <td>40s</td>\n",
       "    </tr>\n",
       "    <tr>\n",
       "      <th>1</th>\n",
       "      <td>2</td>\n",
       "      <td>Male</td>\n",
       "      <td>76</td>\n",
       "      <td>1</td>\n",
       "      <td>3.0</td>\n",
       "      <td>0</td>\n",
       "      <td>1-2 Year</td>\n",
       "      <td>No</td>\n",
       "      <td>33536.0</td>\n",
       "      <td>26.0</td>\n",
       "      <td>183</td>\n",
       "      <td>0</td>\n",
       "      <td>33536.0</td>\n",
       "      <td>High</td>\n",
       "      <td>NaN</td>\n",
       "    </tr>\n",
       "    <tr>\n",
       "      <th>2</th>\n",
       "      <td>3</td>\n",
       "      <td>Male</td>\n",
       "      <td>47</td>\n",
       "      <td>1</td>\n",
       "      <td>28.0</td>\n",
       "      <td>0</td>\n",
       "      <td>&gt; 2 Years</td>\n",
       "      <td>Yes</td>\n",
       "      <td>38294.0</td>\n",
       "      <td>26.0</td>\n",
       "      <td>27</td>\n",
       "      <td>1</td>\n",
       "      <td>38294.0</td>\n",
       "      <td>High</td>\n",
       "      <td>40s</td>\n",
       "    </tr>\n",
       "    <tr>\n",
       "      <th>3</th>\n",
       "      <td>4</td>\n",
       "      <td>Male</td>\n",
       "      <td>21</td>\n",
       "      <td>1</td>\n",
       "      <td>11.0</td>\n",
       "      <td>1</td>\n",
       "      <td>&lt; 1 Year</td>\n",
       "      <td>No</td>\n",
       "      <td>28619.0</td>\n",
       "      <td>152.0</td>\n",
       "      <td>203</td>\n",
       "      <td>0</td>\n",
       "      <td>28619.0</td>\n",
       "      <td>Medium</td>\n",
       "      <td>20s</td>\n",
       "    </tr>\n",
       "    <tr>\n",
       "      <th>4</th>\n",
       "      <td>5</td>\n",
       "      <td>Female</td>\n",
       "      <td>29</td>\n",
       "      <td>1</td>\n",
       "      <td>41.0</td>\n",
       "      <td>1</td>\n",
       "      <td>&lt; 1 Year</td>\n",
       "      <td>No</td>\n",
       "      <td>27496.0</td>\n",
       "      <td>152.0</td>\n",
       "      <td>39</td>\n",
       "      <td>0</td>\n",
       "      <td>27496.0</td>\n",
       "      <td>Medium</td>\n",
       "      <td>20s</td>\n",
       "    </tr>\n",
       "  </tbody>\n",
       "</table>\n",
       "</div>"
      ],
      "text/plain": [
       "   id  Gender  Age  Driving_License  Region_Code  Previously_Insured  \\\n",
       "0   1    Male   44                1         28.0                   0   \n",
       "1   2    Male   76                1          3.0                   0   \n",
       "2   3    Male   47                1         28.0                   0   \n",
       "3   4    Male   21                1         11.0                   1   \n",
       "4   5  Female   29                1         41.0                   1   \n",
       "\n",
       "  Vehicle_Age Vehicle_Damage  Annual_Premium  Policy_Sales_Channel  Vintage  \\\n",
       "0   > 2 Years            Yes         40454.0                  26.0      217   \n",
       "1    1-2 Year             No         33536.0                  26.0      183   \n",
       "2   > 2 Years            Yes         38294.0                  26.0       27   \n",
       "3    < 1 Year             No         28619.0                 152.0      203   \n",
       "4    < 1 Year             No         27496.0                 152.0       39   \n",
       "\n",
       "   Response  Annual_Premium_Capped Premium_Bin Age_Bin  \n",
       "0         1                40454.0   Very High     40s  \n",
       "1         0                33536.0        High     NaN  \n",
       "2         1                38294.0        High     40s  \n",
       "3         0                28619.0      Medium     20s  \n",
       "4         0                27496.0      Medium     20s  "
      ]
     },
     "execution_count": 32,
     "metadata": {},
     "output_type": "execute_result"
    }
   ],
   "source": [
    "train_df.head()"
   ]
  },
  {
   "cell_type": "code",
   "execution_count": 33,
   "metadata": {},
   "outputs": [],
   "source": [
    "# First I will drop ID columns since its not helpful for the model to learn patterns\n",
    "train_df=train_df.drop(columns=['id'])\n",
    "test_df=test_df.drop(columns=['id'])"
   ]
  },
  {
   "cell_type": "code",
   "execution_count": 34,
   "metadata": {},
   "outputs": [
    {
     "data": {
      "text/plain": [
       "<AxesSubplot:>"
      ]
     },
     "execution_count": 34,
     "metadata": {},
     "output_type": "execute_result"
    },
    {
     "data": {
      "image/png": "[encoded data removed]",
      "text/plain": [
       "<Figure size 720x504 with 2 Axes>"
      ]
     },
     "metadata": {
      "needs_background": "light"
     },
     "output_type": "display_data"
    }
   ],
   "source": [
    "# Next we see the correlation of features\n",
    "plt.figure(figsize=(10,7))\n",
    "sns.heatmap(train_df.corr(),annot=True,cmap='coolwarm')"
   ]
  },
  {
   "cell_type": "markdown",
   "metadata": {},
   "source": [
    "### Encode Categorical Data"
   ]
  },
  {
   "cell_type": "code",
   "execution_count": 39,
   "metadata": {},
   "outputs": [],
   "source": [
    "# Fisrt, Ensure consistent formatting in string columns:\n",
    "train_df['Gender'] = train_df['Gender'].str.strip().str.title()\n",
    "train_df['Vehicle_Damage'] = train_df['Vehicle_Damage'].str.strip().str.title()\n",
    "train_df['Vehicle_Age'] = train_df['Vehicle_Age'].str.strip()"
   ]
  },
  {
   "cell_type": "code",
   "execution_count": 40,
   "metadata": {},
   "outputs": [],
   "source": [
    "# Set Up Encoders\n",
    "from sklearn.preprocessing import OneHotEncoder, OrdinalEncoder\n",
    "from sklearn.compose import ColumnTransformer\n",
    "\n",
    "# Define which columns to encode\n",
    "onehot_features = ['Gender', 'Vehicle_Damage']\n",
    "ordinal_feature = ['Vehicle_Age']\n",
    "\n",
    "# Define order for Vehicle_Age\n",
    "ordinal_mapping = [['< 1 Year', '1-2 Year', '> 2 Years']]\n",
    "\n",
    "# Create column transformer\n",
    "encoder = ColumnTransformer(transformers=[\n",
    "    ('onehot', OneHotEncoder(drop='first'), onehot_features),  # drop='first' avoids dummy trap\n",
    "    ('ordinal', OrdinalEncoder(categories=ordinal_mapping), ordinal_feature)\n",
    "], remainder='passthrough')  # keep other columns unchanged\n"
   ]
  },
  {
   "cell_type": "code",
   "execution_count": 60,
   "metadata": {
    "scrolled": true
   },
   "outputs": [],
   "source": [
    "# Clean test_df same way\n",
    "X_test['Gender'] = X_test['Gender'].str.strip().str.title()\n",
    "X_test['Vehicle_Damage'] = X_test['Vehicle_Damage'].str.strip().str.title()\n",
    "X_test['Vehicle_Age'] = X_test['Vehicle_Age'].str.strip()\n",
    "#X_test=test_df\n",
    "\n",
    "# Apply the previously fitted encoder\n",
    "X_test_encoded_df= encoder.transform(X_test)\n"
   ]
  },
  {
   "cell_type": "code",
   "execution_count": 65,
   "metadata": {},
   "outputs": [],
   "source": [
    "# Get column names from OneHotEncoder part\n",
    "onehot_columns = encoder.named_transformers_['onehot'].get_feature_names(['Gender', 'Vehicle_Damage'])\n",
    "all_columns = list(onehot_columns) + ['Vehicle_Age'] + [col for col in X_test.columns if col not in ['Gender', 'Vehicle_Damage', 'Vehicle_Age']]\n",
    "\n",
    "X_encoded_df = pd.DataFrame(X_encoded, columns=all_columns)\n",
    "\n",
    "\n",
    "X_test_encoded_df = pd.DataFrame(X_test_encoded_df, columns=all_columns)\n",
    "# Combine all column names\n"
   ]
  },
  {
   "cell_type": "markdown",
   "metadata": {},
   "source": [
    "### Scaling"
   ]
  },
  {
   "cell_type": "code",
   "execution_count": 66,
   "metadata": {},
   "outputs": [],
   "source": [
    "columns_to_scale = ['Age', 'Annual_Premium', 'Vintage', 'Policy_Sales_Channel', 'Region_Code']\n",
    "from sklearn.preprocessing import StandardScaler\n",
    "\n",
    "# Initialize scaler\n",
    "scaler = StandardScaler()\n",
    "\n",
    "# Fit and transform on train data\n",
    "X_encoded_df[columns_to_scale] = scaler.fit_transform(X_encoded_df[columns_to_scale])\n",
    "X_test_encoded_df[columns_to_scale] = scaler.transform(X_test_encoded_df[columns_to_scale])"
   ]
  },
  {
   "cell_type": "markdown",
   "metadata": {},
   "source": [
    "### Modelling\n"
   ]
  },
  {
   "cell_type": "code",
   "execution_count": 67,
   "metadata": {},
   "outputs": [],
   "source": [
    "from sklearn.model_selection import train_test_split\n",
    "\n",
    "# Define target and features\n",
    "X = X_encoded_df\n",
    "y = train_df['Response']  # original target column from train_df\n",
    "\n",
    "# Split into train and validation sets\n",
    "X_train, X_val, y_train, y_val = train_test_split(X, y, test_size=0.2, random_state=42, stratify=y)\n"
   ]
  },
  {
   "cell_type": "code",
   "execution_count": 76,
   "metadata": {},
   "outputs": [
    {
     "name": "stdout",
     "output_type": "stream",
     "text": [
      "Logistic Regression Results:\n",
      "[[66853    27]\n",
      " [ 9324    18]]\n",
      "              precision    recall  f1-score   support\n",
      "\n",
      "           0       0.88      1.00      0.93     66880\n",
      "           1       0.40      0.00      0.00      9342\n",
      "\n",
      "    accuracy                           0.88     76222\n",
      "   macro avg       0.64      0.50      0.47     76222\n",
      "weighted avg       0.82      0.88      0.82     76222\n",
      "\n",
      "ROC AUC Score: 0.8342\n"
     ]
    }
   ],
   "source": [
    "from sklearn.linear_model import LogisticRegression\n",
    "from sklearn.metrics import classification_report, confusion_matrix\n",
    "from sklearn.metrics import roc_auc_score\n",
    "# Initialize and train\n",
    "logreg = LogisticRegression(max_iter=1000)\n",
    "logreg.fit(X_train, y_train)\n",
    "\n",
    "# Predict\n",
    "y_pred_logreg = logreg.predict(X_val)\n",
    "\n",
    "\n",
    "# Get predicted probabilities for the positive class\n",
    "y_prob_logreg = logreg.predict_proba(X_val)[:, 1]\n",
    "\n",
    "# Compute and print ROC AUC score\n",
    "roc_auc = roc_auc_score(y_val, y_prob_logreg)\n",
    "\n",
    "\n",
    "\n",
    "# Evaluate\n",
    "print(\"Logistic Regression Results:\")\n",
    "print(confusion_matrix(y_val, y_pred_logreg))\n",
    "print(classification_report(y_val, y_pred_logreg))\n",
    "print(f\"ROC AUC Score: {roc_auc:.4f}\")\n"
   ]
  },
  {
   "cell_type": "code",
   "execution_count": 77,
   "metadata": {},
   "outputs": [
    {
     "name": "stdout",
     "output_type": "stream",
     "text": [
      "Random Forest Results:\n",
      "[[60878  6002]\n",
      " [ 6301  3041]]\n",
      "              precision    recall  f1-score   support\n",
      "\n",
      "           0       0.91      0.91      0.91     66880\n",
      "           1       0.34      0.33      0.33      9342\n",
      "\n",
      "    accuracy                           0.84     76222\n",
      "   macro avg       0.62      0.62      0.62     76222\n",
      "weighted avg       0.84      0.84      0.84     76222\n",
      "\n",
      "Random Forest ROC AUC Score: 0.8305\n"
     ]
    }
   ],
   "source": [
    "from sklearn.ensemble import RandomForestClassifier\n",
    "\n",
    "from imblearn.over_sampling import SMOTE\n",
    "\n",
    "# Apply SMOTE on training data\n",
    "smote = SMOTE(random_state=42)\n",
    "X_resampled, y_resampled = smote.fit_resample(X_train, y_train)\n",
    "\n",
    "# Train on resampled data\n",
    "#rf.fit(X_resampled, y_resampled)\n",
    "\n",
    "# Initialize and train\n",
    "rf = RandomForestClassifier(n_estimators=100, random_state=42,class_weight='balanced')\n",
    "rf.fit(X_resampled, y_resampled)\n",
    "# Predict\n",
    "y_pred_rf = rf.predict(X_val)\n",
    "\n",
    "\n",
    "# Get predicted probabilities for the positive class\n",
    "y_prob_rf = rf.predict_proba(X_val)[:, 1]\n",
    "\n",
    "# Compute and print ROC AUC score\n",
    "roc_auc_rf = roc_auc_score(y_val, y_prob_rf)\n",
    "\n",
    "\n",
    "\n",
    "# Evaluate\n",
    "print(\"Random Forest Results:\")\n",
    "print(confusion_matrix(y_val, y_pred_rf))\n",
    "print(classification_report(y_val, y_pred_rf))\n",
    "print(f\"Random Forest ROC AUC Score: {roc_auc_rf:.4f}\")\n"
   ]
  },
  {
   "cell_type": "code",
   "execution_count": 80,
   "metadata": {},
   "outputs": [
    {
     "name": "stdout",
     "output_type": "stream",
     "text": [
      "[12:45:26] WARNING: C:\\Users\\Administrator\\workspace\\xgboost-win64_release_1.2.0\\src\\learner.cc:516: \n",
      "Parameters: { use_label_encoder } might not be used.\n",
      "\n",
      "  This may not be accurate due to some parameters are only used in language bindings but\n",
      "  passed down to XGBoost core.  Or some parameters are not used but slip through this\n",
      "  verification. Please open an issue if you find above cases.\n",
      "\n",
      "\n",
      "[[46148 20732]\n",
      " [  899  8443]]\n",
      "              precision    recall  f1-score   support\n",
      "\n",
      "           0       0.98      0.69      0.81     66880\n",
      "           1       0.29      0.90      0.44      9342\n",
      "\n",
      "    accuracy                           0.72     76222\n",
      "   macro avg       0.64      0.80      0.62     76222\n",
      "weighted avg       0.90      0.72      0.76     76222\n",
      "\n",
      "ROC AUC Score: 0.8557511715560944\n"
     ]
    }
   ],
   "source": [
    "from xgboost import XGBClassifier\n",
    "\n",
    "xgb = XGBClassifier(scale_pos_weight=len(y_train[y_train==0]) / len(y_train[y_train==1]), use_label_encoder=False, eval_metric='logloss')\n",
    "xgb.fit(X_train, y_train)\n",
    "y_pred_xgb = xgb.predict(X_val)\n",
    "\n",
    "from sklearn.metrics import classification_report, confusion_matrix, roc_auc_score\n",
    "\n",
    "print(confusion_matrix(y_val, y_pred_xgb))\n",
    "print(classification_report(y_val, y_pred_xgb))\n",
    "print(\"ROC AUC Score:\", roc_auc_score(y_val, xgb.predict_proba(X_val)[:,1]))\n",
    "\n"
   ]
  },
  {
   "cell_type": "code",
   "execution_count": 72,
   "metadata": {},
   "outputs": [
    {
     "name": "stdout",
     "output_type": "stream",
     "text": [
      "Fitting 3 folds for each of 20 candidates, totalling 60 fits\n"
     ]
    },
    {
     "name": "stderr",
     "output_type": "stream",
     "text": [
      "[Parallel(n_jobs=-1)]: Using backend LokyBackend with 4 concurrent workers.\n",
      "[Parallel(n_jobs=-1)]: Done  42 tasks      | elapsed: 45.1min\n",
      "[Parallel(n_jobs=-1)]: Done  60 out of  60 | elapsed: 59.8min finished\n"
     ]
    },
    {
     "name": "stdout",
     "output_type": "stream",
     "text": [
      "Best Random Forest Results:\n",
      "[[44084 22796]\n",
      " [  602  8740]]\n",
      "              precision    recall  f1-score   support\n",
      "\n",
      "           0       0.99      0.66      0.79     66880\n",
      "           1       0.28      0.94      0.43      9342\n",
      "\n",
      "    accuracy                           0.69     76222\n",
      "   macro avg       0.63      0.80      0.61     76222\n",
      "weighted avg       0.90      0.69      0.75     76222\n",
      "\n",
      "ROC AUC Score: 0.8548482724581274\n"
     ]
    }
   ],
   "source": [
    "from sklearn.ensemble import RandomForestClassifier\n",
    "from sklearn.model_selection import RandomizedSearchCV\n",
    "\n",
    "# Define the hyperparameter grid\n",
    "param_dist = {\n",
    "    'n_estimators': [100, 300, 500],\n",
    "    'max_depth': [None, 10, 20, 30],\n",
    "    'min_samples_split': [2, 5, 10],\n",
    "    'min_samples_leaf': [1, 2, 4],\n",
    "    'max_features': ['sqrt', 'log2'],\n",
    "    'class_weight': ['balanced', 'balanced_subsample']\n",
    "}\n",
    "\n",
    "# Initialize base model\n",
    "rf = RandomForestClassifier(random_state=42)\n",
    "\n",
    "# Set up randomized search\n",
    "rf_random = RandomizedSearchCV(\n",
    "    rf,\n",
    "    param_distributions=param_dist,\n",
    "    n_iter=20,\n",
    "    scoring='roc_auc',\n",
    "    cv=3,\n",
    "    verbose=1,\n",
    "    n_jobs=-1,\n",
    "    random_state=42\n",
    ")\n",
    "\n",
    "# Fit the search on training data\n",
    "rf_random.fit(X_train, y_train)\n",
    "\n",
    "# Best model\n",
    "best_rf = rf_random.best_estimator_\n",
    "\n",
    "# Predict and evaluate\n",
    "y_pred_rf = best_rf.predict(X_val)\n",
    "\n",
    "from sklearn.metrics import classification_report, confusion_matrix, roc_auc_score\n",
    "\n",
    "print(\"Best Random Forest Results:\")\n",
    "print(confusion_matrix(y_val, y_pred_rf))\n",
    "print(classification_report(y_val, y_pred_rf))\n",
    "print(\"ROC AUC Score:\", roc_auc_score(y_val, best_rf.predict_proba(X_val)[:, 1]))\n"
   ]
  },
  {
   "cell_type": "code",
   "execution_count": 73,
   "metadata": {},
   "outputs": [
    {
     "name": "stdout",
     "output_type": "stream",
     "text": [
      "[LightGBM] [Info] Number of positive: 37368, number of negative: 267519\n",
      "[LightGBM] [Info] Auto-choosing row-wise multi-threading, the overhead of testing was 0.105701 seconds.\n",
      "You can set `force_row_wise=true` to remove the overhead.\n",
      "And if memory is not enough, you can set `force_col_wise=true`.\n",
      "[LightGBM] [Info] Total Bins 734\n",
      "[LightGBM] [Info] Number of data points in the train set: 304887, number of used features: 10\n",
      "[LightGBM] [Info] [binary:BoostFromScore]: pavg=0.500000 -> initscore=0.000000\n",
      "[LightGBM] [Info] Start training from score 0.000000\n",
      "              precision    recall  f1-score   support\n",
      "\n",
      "           0       0.99      0.67      0.80     66880\n",
      "           1       0.28      0.93      0.43      9342\n",
      "\n",
      "    accuracy                           0.70     76222\n",
      "   macro avg       0.63      0.80      0.62     76222\n",
      "weighted avg       0.90      0.70      0.75     76222\n",
      "\n",
      "ROC AUC: 0.857770376445983\n"
     ]
    }
   ],
   "source": [
    "from lightgbm import LGBMClassifier\n",
    "\n",
    "lgbm = LGBMClassifier(class_weight='balanced', random_state=42)\n",
    "lgbm.fit(X_train, y_train)\n",
    "\n",
    "# Predict and evaluate\n",
    "y_pred = lgbm.predict(X_val)\n",
    "print(classification_report(y_val, y_pred))\n",
    "print(\"ROC AUC:\", roc_auc_score(y_val, lgbm.predict_proba(X_val)[:,1]))\n"
   ]
  },
  {
   "cell_type": "code",
   "execution_count": 92,
   "metadata": {},
   "outputs": [
    {
     "name": "stdout",
     "output_type": "stream",
     "text": [
      "Collecting lightgbm\n",
      "  Downloading lightgbm-4.6.0-py3-none-win_amd64.whl (1.5 MB)\n",
      "Requirement already satisfied: scipy in c:\\users\\user\\anaconda3\\envs\\learn-env\\lib\\site-packages (from lightgbm) (1.5.0)\n",
      "Requirement already satisfied: numpy>=1.17.0 in c:\\users\\user\\anaconda3\\envs\\learn-env\\lib\\site-packages (from lightgbm) (1.18.5)\n",
      "Installing collected packages: lightgbm\n",
      "Successfully installed lightgbm-4.6.0\n"
     ]
    }
   ],
   "source": [
    "!pip install lightgbm\n"
   ]
  },
  {
   "cell_type": "code",
   "execution_count": 83,
   "metadata": {},
   "outputs": [
    {
     "data": {
      "image/png": "[encoded data removed]",
      "text/plain": [
       "<Figure size 720x504 with 1 Axes>"
      ]
     },
     "metadata": {
      "needs_background": "light"
     },
     "output_type": "display_data"
    }
   ],
   "source": [
    "import matplotlib.pyplot as plt\n",
    "from sklearn.metrics import roc_curve, auc\n",
    "\n",
    "# Compute ROC curve and AUC for each model\n",
    "fpr_logreg, tpr_logreg, _ = roc_curve(y_val, y_prob_logreg)\n",
    "fpr_rf, tpr_rf, _ = roc_curve(y_val, y_prob_rf)\n",
    "fpr_xgb, tpr_xgb, _ = roc_curve(y_val, xgb.predict_proba(X_val)[:, 1])\n",
    "fpr_lgbm, tpr_lgbm, _ = roc_curve(y_val, lgbm.predict_proba(X_val)[:, 1])\n",
    "# fpr_rf_model, tpr_rf_model, _ = roc_curve(y_val, y_proba)  # from rf_model on X_val_selected\n",
    "\n",
    "# Calculate AUC scores\n",
    "auc_logreg = auc(fpr_logreg, tpr_logreg)\n",
    "auc_rf = auc(fpr_rf, tpr_rf)\n",
    "auc_xgb = auc(fpr_xgb, tpr_xgb)\n",
    "auc_lgbm = auc(fpr_lgbm, tpr_lgbm)\n",
    "\n",
    "\n",
    "# Plot ROC curves\n",
    "plt.figure(figsize=(10, 7))\n",
    "plt.plot(fpr_logreg, tpr_logreg, label=f'Logistic Regression (AUC = {auc_logreg:.2f})')\n",
    "plt.plot(fpr_rf, tpr_rf, label=f'Random Forest + SMOTE (AUC = {auc_rf:.2f})')\n",
    "plt.plot(fpr_xgb, tpr_xgb, label=f'XGBoost (AUC = {auc_xgb:.2f})')\n",
    "plt.plot(fpr_lgbm, tpr_lgbm, label=f'LightGBM (AUC = {auc_lgbm:.2f})')\n",
    "\n",
    "\n",
    "# Diagonal line for random guessing\n",
    "plt.plot([0, 1], [0, 1], 'k--', lw=1)\n",
    "\n",
    "# Plot settings\n",
    "plt.xlabel('False Positive Rate')\n",
    "plt.ylabel('True Positive Rate')\n",
    "plt.title('ROC Curves for All Models')\n",
    "plt.legend(loc='lower right')\n",
    "plt.grid(True)\n",
    "plt.tight_layout()\n",
    "plt.show()\n"
   ]
  },
  {
   "cell_type": "markdown",
   "metadata": {},
   "source": [
    "### Model Performance Comparison"
   ]
  },
  {
   "cell_type": "code",
   "execution_count": 95,
   "metadata": {},
   "outputs": [
    {
     "data": {
      "text/html": [
       "<div>\n",
       "<style scoped>\n",
       "    .dataframe tbody tr th:only-of-type {\n",
       "        vertical-align: middle;\n",
       "    }\n",
       "\n",
       "    .dataframe tbody tr th {\n",
       "        vertical-align: top;\n",
       "    }\n",
       "\n",
       "    .dataframe thead th {\n",
       "        text-align: right;\n",
       "    }\n",
       "</style>\n",
       "<table border=\"1\" class=\"dataframe\">\n",
       "  <thead>\n",
       "    <tr style=\"text-align: right;\">\n",
       "      <th></th>\n",
       "      <th>Model</th>\n",
       "      <th>Accuracy</th>\n",
       "      <th>Class 1 Recall</th>\n",
       "      <th>Class 1 Precision</th>\n",
       "      <th>F1 Score (Class 1)</th>\n",
       "      <th>ROC AUC</th>\n",
       "    </tr>\n",
       "  </thead>\n",
       "  <tbody>\n",
       "    <tr>\n",
       "      <th>0</th>\n",
       "      <td>Logistic Regression</td>\n",
       "      <td>0.88</td>\n",
       "      <td>0.00</td>\n",
       "      <td>0.40</td>\n",
       "      <td>0.00</td>\n",
       "      <td>0.8342</td>\n",
       "    </tr>\n",
       "    <tr>\n",
       "      <th>1</th>\n",
       "      <td>XGBoost</td>\n",
       "      <td>0.72</td>\n",
       "      <td>0.90</td>\n",
       "      <td>0.29</td>\n",
       "      <td>0.44</td>\n",
       "      <td>0.8558</td>\n",
       "    </tr>\n",
       "    <tr>\n",
       "      <th>2</th>\n",
       "      <td>Random Forest</td>\n",
       "      <td>0.69</td>\n",
       "      <td>0.94</td>\n",
       "      <td>0.28</td>\n",
       "      <td>0.43</td>\n",
       "      <td>0.8548</td>\n",
       "    </tr>\n",
       "    <tr>\n",
       "      <th>3</th>\n",
       "      <td>LightGBM</td>\n",
       "      <td>0.70</td>\n",
       "      <td>0.93</td>\n",
       "      <td>0.28</td>\n",
       "      <td>0.43</td>\n",
       "      <td>0.8578</td>\n",
       "    </tr>\n",
       "  </tbody>\n",
       "</table>\n",
       "</div>"
      ],
      "text/plain": [
       "                 Model  Accuracy  Class 1 Recall  Class 1 Precision  \\\n",
       "0  Logistic Regression      0.88            0.00               0.40   \n",
       "1              XGBoost      0.72            0.90               0.29   \n",
       "2        Random Forest      0.69            0.94               0.28   \n",
       "3            LightGBM       0.70            0.93               0.28   \n",
       "\n",
       "   F1 Score (Class 1)  ROC AUC  \n",
       "0                0.00   0.8342  \n",
       "1                0.44   0.8558  \n",
       "2                0.43   0.8548  \n",
       "3                0.43   0.8578  "
      ]
     },
     "execution_count": 95,
     "metadata": {},
     "output_type": "execute_result"
    }
   ],
   "source": [
    "\n",
    "\n",
    "# Create a DataFrame to hold the model performance data\n",
    "performance_data = {\n",
    "    \"Model\": [\"Logistic Regression\", \"XGBoost\", \"Random Forest\", \"LightGBM \"],\n",
    "    \"Accuracy\": [0.88, 0.72, 0.69, 0.70],\n",
    "    \"Class 1 Recall\": [0.00, 0.90, 0.94, 0.93],\n",
    "    \"Class 1 Precision\": [0.40, 0.29, 0.28, 0.28],\n",
    "    \"F1 Score (Class 1)\": [0.00, 0.44, 0.43, 0.43],\n",
    "    \"ROC AUC\": [0.8342, 0.8558, 0.8548, 0.8578]\n",
    "}\n",
    "\n",
    "performance_df = pd.DataFrame(performance_data)\n",
    "\n",
    "# Display the table\n",
    "performance_df\n"
   ]
  },
  {
   "attachments": {},
   "cell_type": "markdown",
   "metadata": {},
   "source": [
    "### Choosing the best Model\n",
    "From the above, predicting who will respond positively is more important than just getting high overall accuracy. Therefore, we will keep a close eye on;                                                                                                  \n",
    " \n",
    "* Model with High recall and precision on class 1 (the minority class).                                                           \n",
    "                                                                                                                           \n",
    "* Good AUC (how well the model separates the classes).\n",
    "\n",
    "Therefore, based on the scores from the above table **LightGBM** is the best model because of the following reasons;\n",
    "\n",
    "* Highest ROC AUC = 0.8578 → best class separation overall.\n",
    "\n",
    "* Highest recall on class 1 = 0.93 → captures most positive responders.\n",
    "\n",
    "* F1-score and precision similar to XGBoost and Random Forest → fair balance.\n",
    "\n",
    "* Good overall trade-off between performance and interpretability.\n",
    "\n",
    "* Can be made faster and lighter in deployment."
   ]
  },
  {
   "attachments": {},
   "cell_type": "markdown",
   "metadata": {},
   "source": [
    "### Business recommendations\n",
    "1. Use LightGBM model for production deployment since it offers better performance with fewer resources and handles imbalanced data well.     \n",
    "\n",
    "\n",
    "\n",
    "2. Focus personalized campaigns on mid-aged groups (30–50s). Also consider education campaigns or beginner-friendly policies for younger groups.        \n",
    "\n",
    "\n",
    "\n",
    "\n",
    "3. Prioritize the top-performing channels such as channel 152 and 26 in underperforming regions so as to improve marketing. However ,enhance agent training and lead quality in high-traffic channels like 123 and 43.\n",
    "\n",
    "\n",
    "4. Target Uninsured Customer since they show significantly higher response rates. Focus marketing campaigns and Allocating higher outreach budget to this segment will result to a  better ROI.\n",
    "\n",
    "### Next Steps\n",
    "1. Model Deployment\n",
    "Deploy the LightGBM model into production to predict customer responses in real-time.\n",
    "Integrate the model with the marketing system to prioritize leads based on response probability.\n",
    "\n",
    "\n",
    "2. A/B Testing of Campaigns\n",
    "Run A/B tests using the model to compare targeted marketing (model-based) vs broad campaigns.\n",
    "Measure conversion rates, cost per acquisition (CPA), and ROI improvements\n",
    "\n",
    "### Conclusion\n",
    "This project has provided valuable insights into customer response behavior and identified the key drivers behind successful insurance policy conversions. \n",
    "\n",
    "Through predictive modeling, we uncovered that LightGBM model emerged as the best-performing algorithm, with strong recall for the positive class and the highest ROC AUC, making it well-suited for real-world deployment.\n",
    "\n",
    "With the model in place, the organization can now proactively target high-value leads, reduce acquisition costs, and improve policy uptake rates.\n"
   ]
  }
 ],
 "metadata": {
  "kernelspec": {
   "display_name": "Python (learn-env)",
   "language": "python",
   "name": "learn-env"
  },
  "language_info": {
   "codemirror_mode": {
    "name": "ipython",
    "version": 3
   },
   "file_extension": ".py",
   "mimetype": "text/x-python",
   "name": "python",
   "nbconvert_exporter": "python",
   "pygments_lexer": "ipython3",
   "version": "3.8.5"
  }
 },
 "nbformat": 4,
 "nbformat_minor": 4
}
