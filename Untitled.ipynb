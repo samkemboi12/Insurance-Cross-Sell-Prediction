{
 "cells": [
  {
   "cell_type": "markdown",
   "metadata": {},
   "source": [
    "# Insurance Cross Sell Prediction\n",
    "## Project Plan\n",
    "This project aims at building a model to predict whether the policy holders clients from past year will also be interested in Vehicle Insurance provided by the company.\n",
    "## Business Problem\n",
    "Your insurance company, which currently provides health insurance to its customers, is looking to expand its services by offering vehicle insurance policies. The company needs help in developing a predictive model to determine whether existing health insurance policyholders are likely to show interest in purchasing a vehicle insurance policy as well.\n",
    "\n",
    "To support this business goal, I will analyze customer data from the past year — including demographics, risk indicators, and policy history — to build a reliable model that predicts conversion likelihood. In addition to predictive modeling, I will provide business insights and strategic recommendations to help the company design effective marketing campaigns and ensure that policy offerings are inclusive, fair, and aligned with customer behavior.\n",
    "## Business Objectives\n",
    "1.  Predict whether a customer will respond positively to an insurance offer.\n",
    "1.\tPredict Insurance Purchase Intentions\n",
    "Develop a predictive model to determine whether a customer is likely to purchase a vehicle insurance policy based on demographic and historical data.\n",
    "2.\tIdentify Key Factors Influencing Purchase Decisions\n",
    "Analyze the most important features (e.g., age, gender, policy channel, vehicle damage) that influence customer decisions to buy vehicle insurance.\n",
    "3.\tSegment Customers for Targeted Marketing\n",
    "Group customers into meaningful segments based on age, risk indicators, and policy history to improve marketing efficiency.\n",
    "4.\tAssess Bias and Fairness in Predictions\n",
    "Evaluate whether the model treats different demographic groups (e.g., gender or region) fairly using fairness metrics like demographic parity or equal opportunity.\n",
    "5.\tProvide Actionable Business Insights\n",
    "Recommend data-driven strategies for improving cross-sell conversion rates and optimizing policy offerings and sales channels\n"
   ]
  },
  {
   "cell_type": "code",
   "execution_count": 13,
   "metadata": {},
   "outputs": [],
   "source": [
    "import pandas as pd\n",
    "train_df=pd.read_csv('train.csv')\n",
    "test_df=pd.read_csv('test.csv')\n",
    "#submission_df=pd.read_csv('sample_submission.csv')\n"
   ]
  },
  {
   "cell_type": "code",
   "execution_count": 23,
   "metadata": {},
   "outputs": [
    {
     "data": {
      "text/html": [
       "<div>\n",
       "<style scoped>\n",
       "    .dataframe tbody tr th:only-of-type {\n",
       "        vertical-align: middle;\n",
       "    }\n",
       "\n",
       "    .dataframe tbody tr th {\n",
       "        vertical-align: top;\n",
       "    }\n",
       "\n",
       "    .dataframe thead th {\n",
       "        text-align: right;\n",
       "    }\n",
       "</style>\n",
       "<table border=\"1\" class=\"dataframe\">\n",
       "  <thead>\n",
       "    <tr style=\"text-align: right;\">\n",
       "      <th></th>\n",
       "      <th>id</th>\n",
       "      <th>Gender</th>\n",
       "      <th>Age</th>\n",
       "      <th>Driving_License</th>\n",
       "      <th>Region_Code</th>\n",
       "      <th>Previously_Insured</th>\n",
       "      <th>Vehicle_Age</th>\n",
       "      <th>Vehicle_Damage</th>\n",
       "      <th>Annual_Premium</th>\n",
       "      <th>Policy_Sales_Channel</th>\n",
       "      <th>Vintage</th>\n",
       "      <th>Response</th>\n",
       "    </tr>\n",
       "  </thead>\n",
       "  <tbody>\n",
       "    <tr>\n",
       "      <th>0</th>\n",
       "      <td>1</td>\n",
       "      <td>Male</td>\n",
       "      <td>44</td>\n",
       "      <td>1</td>\n",
       "      <td>28.0</td>\n",
       "      <td>0</td>\n",
       "      <td>&gt; 2 Years</td>\n",
       "      <td>Yes</td>\n",
       "      <td>40454.0</td>\n",
       "      <td>26.0</td>\n",
       "      <td>217</td>\n",
       "      <td>1</td>\n",
       "    </tr>\n",
       "    <tr>\n",
       "      <th>1</th>\n",
       "      <td>2</td>\n",
       "      <td>Male</td>\n",
       "      <td>76</td>\n",
       "      <td>1</td>\n",
       "      <td>3.0</td>\n",
       "      <td>0</td>\n",
       "      <td>1-2 Year</td>\n",
       "      <td>No</td>\n",
       "      <td>33536.0</td>\n",
       "      <td>26.0</td>\n",
       "      <td>183</td>\n",
       "      <td>0</td>\n",
       "    </tr>\n",
       "    <tr>\n",
       "      <th>2</th>\n",
       "      <td>3</td>\n",
       "      <td>Male</td>\n",
       "      <td>47</td>\n",
       "      <td>1</td>\n",
       "      <td>28.0</td>\n",
       "      <td>0</td>\n",
       "      <td>&gt; 2 Years</td>\n",
       "      <td>Yes</td>\n",
       "      <td>38294.0</td>\n",
       "      <td>26.0</td>\n",
       "      <td>27</td>\n",
       "      <td>1</td>\n",
       "    </tr>\n",
       "    <tr>\n",
       "      <th>3</th>\n",
       "      <td>4</td>\n",
       "      <td>Male</td>\n",
       "      <td>21</td>\n",
       "      <td>1</td>\n",
       "      <td>11.0</td>\n",
       "      <td>1</td>\n",
       "      <td>&lt; 1 Year</td>\n",
       "      <td>No</td>\n",
       "      <td>28619.0</td>\n",
       "      <td>152.0</td>\n",
       "      <td>203</td>\n",
       "      <td>0</td>\n",
       "    </tr>\n",
       "  </tbody>\n",
       "</table>\n",
       "</div>"
      ],
      "text/plain": [
       "   id Gender  Age  Driving_License  Region_Code  Previously_Insured  \\\n",
       "0   1   Male   44                1         28.0                   0   \n",
       "1   2   Male   76                1          3.0                   0   \n",
       "2   3   Male   47                1         28.0                   0   \n",
       "3   4   Male   21                1         11.0                   1   \n",
       "\n",
       "  Vehicle_Age Vehicle_Damage  Annual_Premium  Policy_Sales_Channel  Vintage  \\\n",
       "0   > 2 Years            Yes         40454.0                  26.0      217   \n",
       "1    1-2 Year             No         33536.0                  26.0      183   \n",
       "2   > 2 Years            Yes         38294.0                  26.0       27   \n",
       "3    < 1 Year             No         28619.0                 152.0      203   \n",
       "\n",
       "   Response  \n",
       "0         1  \n",
       "1         0  \n",
       "2         1  \n",
       "3         0  "
      ]
     },
     "execution_count": 23,
     "metadata": {},
     "output_type": "execute_result"
    }
   ],
   "source": [
    "train_df.head(4)"
   ]
  },
  {
   "cell_type": "markdown",
   "metadata": {},
   "source": [
    "### Check for null values and duplicates"
   ]
  },
  {
   "cell_type": "code",
   "execution_count": 32,
   "metadata": {},
   "outputs": [
    {
     "data": {
      "text/plain": [
       "{'null_values': id                      0\n",
       " Gender                  0\n",
       " Age                     0\n",
       " Driving_License         0\n",
       " Region_Code             0\n",
       " Previously_Insured      0\n",
       " Vehicle_Age             0\n",
       " Vehicle_Damage          0\n",
       " Annual_Premium          0\n",
       " Policy_Sales_Channel    0\n",
       " Vintage                 0\n",
       " Response                0\n",
       " dtype: int64,\n",
       " 'duplicate_count': 0}"
      ]
     },
     "execution_count": 32,
     "metadata": {},
     "output_type": "execute_result"
    }
   ],
   "source": [
    "\n",
    "def check_dupli_null(train_df):\n",
    "    null_values = train_df.isnull().sum()\n",
    "    duplicates = train_df.duplicated().sum()\n",
    "    \n",
    "    \n",
    "\n",
    "    \n",
    "    return {\n",
    "        \"null_values\": null_values,\n",
    "        \"duplicate_count\": duplicates\n",
    "    \n",
    "    }\n",
    "\n",
    "check_dupli_null(train_df)"
   ]
  },
  {
   "cell_type": "markdown",
   "metadata": {},
   "source": [
    "Our data was clean with no missing values and ndo duplicates also, so we will go directly to **Explanatory Data Analysis**"
   ]
  },
  {
   "cell_type": "markdown",
   "metadata": {},
   "source": [
    "## Explanatory Data Analysis"
   ]
  },
  {
   "cell_type": "markdown",
   "metadata": {},
   "source": [
    "### Group region, insurance status, and premium level to check the customer response rate."
   ]
  },
  {
   "cell_type": "code",
   "execution_count": 33,
   "metadata": {},
   "outputs": [
    {
     "name": "stdout",
     "output_type": "stream",
     "text": [
      "     Region_Code  Previously_Insured Premium_Bin  Lead_Count  Response_Rate\n",
      "220         27.0                   1         Low         465            0.0\n",
      "221         27.0                   1      Medium         438            0.0\n",
      "223         27.0                   1   Very High          67            0.0\n",
      "245         30.0                   1      Medium        3767            0.0\n",
      "246         30.0                   1        High        1540            0.0\n",
      "247         30.0                   1   Very High         568            0.0\n",
      "423         52.0                   1   Very High          32            0.0\n",
      "5            0.0                   1      Medium           0            NaN\n",
      "6            0.0                   1        High           0            NaN\n",
      "11           1.0                   0   Very High           0            NaN\n",
      "13           1.0                   1      Medium           0            NaN\n",
      "14           1.0                   1        High           0            NaN\n",
      "15           1.0                   1   Very High           0            NaN\n",
      "165         20.0                   1      Medium           0            NaN\n",
      "166         20.0                   1        High           0            NaN\n",
      "167         20.0                   1   Very High           0            NaN\n",
      "253         31.0                   1      Medium           0            NaN\n",
      "254         31.0                   1        High           0            NaN\n",
      "255         31.0                   1   Very High           0            NaN\n",
      "389         48.0                   1      Medium           0            NaN\n"
     ]
    }
   ],
   "source": [
    "\n",
    "\n",
    "# Optional: bin the Annual_Premium to make grouping more meaningful\n",
    "train_df['Premium_Bin'] = pd.qcut(train_df['Annual_Premium'], q=4, labels=['Low', 'Medium', 'High', 'Very High'])\n",
    "\n",
    "# Group by Region_Code, Previously_Insured, and Premium_Bin\n",
    "grouped = train_df.groupby(['Region_Code', 'Previously_Insured', 'Premium_Bin'])['Response'].agg(['count', 'mean']).reset_index()\n",
    "\n",
    "# Rename columns for clarity\n",
    "grouped.columns = ['Region_Code', 'Previously_Insured', 'Premium_Bin', 'Lead_Count', 'Response_Rate']\n",
    "\n",
    "# Sort to see highest response groups first\n",
    "grouped_sorted = grouped.sort_values(by='Response_Rate', ascending=False)\n",
    "\n",
    "# Display top rows\n",
    "print(grouped_sorted.tail(20))\n"
   ]
  },
  {
   "cell_type": "code",
   "execution_count": 34,
   "metadata": {},
   "outputs": [
    {
     "data": {
      "image/png": "[encoded data removed]",
      "text/plain": [
       "<Figure size 1008x432 with 1 Axes>"
      ]
     },
     "metadata": {
      "needs_background": "light"
     },
     "output_type": "display_data"
    }
   ],
   "source": [
    "import pandas as pd\n",
    "import seaborn as sns\n",
    "import matplotlib.pyplot as plt\n",
    "\n",
    "# Load data\n",
    "train_df = pd.read_csv('train.csv')\n",
    "\n",
    "# Create bins for Annual_Premium (quartiles)\n",
    "train_df['Premium_Bin'] = pd.qcut(train_df['Annual_Premium'], q=4, labels=['Low', 'Medium', 'High', 'Very High'])\n",
    "\n",
    "# Group data\n",
    "grouped = (\n",
    "    train_df.groupby(['Region_Code', 'Previously_Insured', 'Premium_Bin'])['Response']\n",
    "    .agg(['count', 'mean'])\n",
    "    .reset_index()\n",
    "    .rename(columns={'count': 'Lead_Count', 'mean': 'Response_Rate'})\n",
    ")\n",
    "\n",
    "# Optional: Filter to avoid unreliable small groups\n",
    "grouped = grouped[grouped['Lead_Count'] >= 30]\n",
    "\n",
    "# Plotting: Response Rate by Premium Bin and Previously Insured status\n",
    "plt.figure(figsize=(14, 6))\n",
    "sns.barplot(\n",
    "    data=grouped,\n",
    "    x='Premium_Bin',\n",
    "    y='Response_Rate',\n",
    "    hue='Previously_Insured',\n",
    "    ci=None\n",
    ")\n",
    "\n",
    "plt.title('Response Rate by Premium Bin and Insurance Status')\n",
    "plt.ylabel('Response Rate')\n",
    "plt.xlabel('Annual Premium Bin')\n",
    "plt.legend(title='Previously Insured')\n",
    "plt.tight_layout()\n",
    "plt.show()\n"
   ]
  },
  {
   "cell_type": "code",
   "execution_count": 35,
   "metadata": {},
   "outputs": [
    {
     "data": {
      "image/png": "[encoded data removed]",
      "text/plain": [
       "<Figure size 963.375x576 with 6 Axes>"
      ]
     },
     "metadata": {
      "needs_background": "light"
     },
     "output_type": "display_data"
    }
   ],
   "source": [
    "import seaborn as sns\n",
    "import matplotlib.pyplot as plt\n",
    "\n",
    "# Only show top N most populated regions to keep things readable\n",
    "top_regions = (\n",
    "    grouped.groupby('Region_Code')['Lead_Count']\n",
    "    .sum()\n",
    "    .sort_values(ascending=False)\n",
    "    .head(6)  # choose how many regions to show\n",
    "    .index\n",
    ")\n",
    "\n",
    "# Filter to only those top regions\n",
    "filtered = grouped[grouped['Region_Code'].isin(top_regions)]\n",
    "\n",
    "# Set up FacetGrid\n",
    "g = sns.FacetGrid(\n",
    "    filtered,\n",
    "    col='Region_Code',\n",
    "    hue='Previously_Insured',\n",
    "    col_wrap=3,\n",
    "    height=4,\n",
    "    sharey=True\n",
    ")\n",
    "\n",
    "g.map(sns.barplot, 'Premium_Bin', 'Response_Rate', order=['Low', 'Medium', 'High', 'Very High'])\n",
    "g.add_legend(title=\"Previously Insured\")\n",
    "g.set_titles(\"Region {col_name}\")\n",
    "g.set_axis_labels(\"Premium Bin\", \"Response Rate\")\n",
    "`\n",
    "plt.tight_layout()\n",
    "plt.show()\n"
   ]
  },
  {
   "cell_type": "markdown",
   "metadata": {},
   "source": [
    "### Findings \n",
    "From the abvove we see :                                                                                                    \n",
    "Previously_Insured = 0 customers have significantly higher response rates than those already insured (Previously_Insured = 1).\n",
    "\n",
    "Business implication: Focus marketing on those not currently insured — they’re much more receptive to offers."
   ]
  },
  {
   "cell_type": "code",
   "execution_count": 8,
   "metadata": {},
   "outputs": [
    {
     "data": {
      "text/plain": [
       "<AxesSubplot:>"
      ]
     },
     "execution_count": 8,
     "metadata": {},
     "output_type": "execute_result"
    },
    {
     "data": {
      "image/png": "[encoded data removed]",
      "text/plain": [
       "<Figure size 720x504 with 2 Axes>"
      ]
     },
     "metadata": {
      "needs_background": "light"
     },
     "output_type": "display_data"
    }
   ],
   "source": [
    "import seaborn as sns\n",
    "import matplotlib.pyplot as plt\n",
    "\n",
    "plt.figure(figsize=(10,7))\n",
    "sns.heatmap(train_df.corr(),annot=True,cmap='coolwarm')"
   ]
  },
  {
   "cell_type": "code",
   "execution_count": 18,
   "metadata": {},
   "outputs": [
    {
     "data": {
      "image/png": "[encoded data removed]",
      "text/plain": [
       "<Figure size 720x576 with 9 Axes>"
      ]
     },
     "metadata": {
      "needs_background": "light"
     },
     "output_type": "display_data"
    }
   ],
   "source": [
    "train_df.hist(figsize=(10, 8))\n",
    "plt.tight_layout()\n",
    "plt.show()\n"
   ]
  },
  {
   "cell_type": "code",
   "execution_count": 3,
   "metadata": {},
   "outputs": [
    {
     "data": {
      "image/png": "[encoded data removed]",
      "text/plain": [
       "<Figure size 576x360 with 1 Axes>"
      ]
     },
     "metadata": {
      "needs_background": "light"
     },
     "output_type": "display_data"
    }
   ],
   "source": [
    "import matplotlib.pyplot as plt\n",
    "import seaborn as sns\n",
    "\n",
    "plt.figure(figsize=(8, 5))\n",
    "sns.histplot(df['Age'], bins=30, kde=True)\n",
    "plt.title(\"Age Distribution\")\n",
    "plt.xlabel(\"Age\")\n",
    "plt.ylabel(\"Count\")\n",
    "plt.show()\n"
   ]
  },
  {
   "cell_type": "code",
   "execution_count": 24,
   "metadata": {},
   "outputs": [
    {
     "data": {
      "image/png": "[encoded data removed]",
      "text/plain": [
       "<Figure size 432x288 with 1 Axes>"
      ]
     },
     "metadata": {
      "needs_background": "light"
     },
     "output_type": "display_data"
    }
   ],
   "source": [
    "plt.figure(figsize=(6, 4))\n",
    "sns.barplot(x='Gender', y='Response', data=df)\n",
    "plt.title(\"Insurance Response Rate by Gender\")\n",
    "plt.ylabel(\"Response Rate\")\n",
    "plt.show()\n"
   ]
  },
  {
   "cell_type": "code",
   "execution_count": 25,
   "metadata": {},
   "outputs": [
    {
     "data": {
      "image/png": "[encoded data removed]",
      "text/plain": [
       "<Figure size 432x288 with 1 Axes>"
      ]
     },
     "metadata": {
      "needs_background": "light"
     },
     "output_type": "display_data"
    }
   ],
   "source": [
    "plt.figure(figsize=(6, 4))\n",
    "sns.barplot(x='Vehicle_Damage', y='Response', data=df)\n",
    "plt.title(\"Response Rate by Vehicle Damage\")\n",
    "plt.ylabel(\"Response Rate\")\n",
    "plt.show()\n"
   ]
  },
  {
   "cell_type": "code",
   "execution_count": 26,
   "metadata": {},
   "outputs": [
    {
     "data": {
      "image/png": "[encoded data removed]",
      "text/plain": [
       "<Figure size 576x360 with 1 Axes>"
      ]
     },
     "metadata": {
      "needs_background": "light"
     },
     "output_type": "display_data"
    }
   ],
   "source": [
    "plt.figure(figsize=(8, 5))\n",
    "sns.histplot(df['Annual_Premium'], bins=30, kde=True)\n",
    "plt.title(\"Annual Premium Distribution\")\n",
    "plt.xlabel(\"Annual Premium\")\n",
    "plt.ylabel(\"Count\")\n",
    "plt.show()\n"
   ]
  },
  {
   "cell_type": "code",
   "execution_count": 27,
   "metadata": {},
   "outputs": [
    {
     "data": {
      "image/png": "[encoded data removed]",
      "text/plain": [
       "<Figure size 720x360 with 1 Axes>"
      ]
     },
     "metadata": {
      "needs_background": "light"
     },
     "output_type": "display_data"
    }
   ],
   "source": [
    "plt.figure(figsize=(10, 5))\n",
    "sns.countplot(data=df, x='Policy_Sales_Channel', order=df['Policy_Sales_Channel'].value_counts().index[:10])\n",
    "plt.title(\"Top 10 Policy Sales Channels\")\n",
    "plt.xticks(rotation=45)\n",
    "plt.show()\n"
   ]
  },
  {
   "cell_type": "code",
   "execution_count": 1,
   "metadata": {},
   "outputs": [
    {
     "name": "stdout",
     "output_type": "stream",
     "text": [
      "     Age_Bin  Gender  Policy_Sales_Channel  Lead_Count  Response_Rate\n",
      "712      40s  Female                  97.0           1            1.0\n",
      "395      30s  Female                  90.0           1            1.0\n",
      "535      30s    Male                  73.0           1            1.0\n",
      "822      40s    Male                  49.0           1            1.0\n",
      "738      40s  Female                 123.0           1            1.0\n",
      "801      40s    Male                  28.0           1            1.0\n",
      "480      30s    Male                  17.0           1            1.0\n",
      "280      20s    Male                 130.0           1            1.0\n",
      "1462     60s    Male                  69.0           1            1.0\n",
      "550      30s    Male                  90.0           1            1.0\n"
     ]
    }
   ],
   "source": [
    "import pandas as pd\n",
    "\n",
    "# Load your training data\n",
    "df = pd.read_csv('train.csv')\n",
    "\n",
    "# Group by Age (binned), Gender, and Policy_Sales_Channel\n",
    "df['Age_Bin'] = pd.cut(df['Age'], bins=[20, 30, 40, 50, 60, 70], labels=['20s', '30s', '40s', '50s', '60s'])\n",
    "\n",
    "grouped = df.groupby(['Age_Bin', 'Gender', 'Policy_Sales_Channel'])['Response'].agg(['count', 'mean']).reset_index()\n",
    "grouped.rename(columns={'count': 'Lead_Count', 'mean': 'Response_Rate'}, inplace=True)\n",
    "\n",
    "# Show top rows\n",
    "print(grouped.sort_values(by='Response_Rate', ascending=False).head(10))\n"
   ]
  },
  {
   "cell_type": "code",
   "execution_count": 4,
   "metadata": {},
   "outputs": [
    {
     "data": {
      "image/png": "[encoded data removed]",
      "text/plain": [
       "<Figure size 864x432 with 1 Axes>"
      ]
     },
     "metadata": {
      "needs_background": "light"
     },
     "output_type": "display_data"
    }
   ],
   "source": [
    "\n",
    "\n",
    "# Create age bins\n",
    "df['Age_Bin'] = pd.cut(df['Age'], bins=[20, 30, 40, 50, 60, 70], labels=['20s', '30s', '40s', '50s', '60s'])\n",
    "\n",
    "# Filter top 5 most common policy channels (optional but helps readability)\n",
    "top_channels = df['Policy_Sales_Channel'].value_counts().head(5).index\n",
    "filtered_df = df[df['Policy_Sales_Channel'].isin(top_channels)]\n",
    "\n",
    "# Plot response rate by Age Group and Gender\n",
    "plt.figure(figsize=(12, 6))\n",
    "sns.barplot(\n",
    "    data=filtered_df,\n",
    "    x='Age_Bin',\n",
    "    y='Response',\n",
    "    hue='Gender',\n",
    "    ci=None\n",
    ")\n",
    "plt.title('Response Rate by Age Group and Gender')\n",
    "plt.xlabel('Age Group')\n",
    "plt.ylabel('Average Response Rate')\n",
    "plt.legend(title='Gender')\n",
    "plt.tight_layout()\n",
    "plt.show()\n"
   ]
  },
  {
   "cell_type": "markdown",
   "metadata": {},
   "source": [
    "### Findings\n",
    "1. Middle-aged groups (30s to 50s) show higher response rates\n",
    "These age bins tend to have higher average response rates compared to the younger (20s) or older (60s) age groups.\n",
    "\n",
    "Interpretation: These individuals may be more financially stable and likely to consider purchasing insurance.\n",
    "\n",
    "2. Gender differences are minimal or vary by age\n",
    "In some age bins, females might respond more; in others, males do.\n",
    "\n",
    "If your plot shows minimal difference, gender may not be a strong differentiator in overall conversion.\n",
    "\n",
    "3. 20s and 60s have the lowest response rates\n",
    "Customers under 30 or over 60 are less likely to respond positively.\n",
    "\n",
    "Younger individuals may feel less need for insurance.\n",
    "\n",
    "Older individuals may already be insured or face premium/eligibility barriers.\n"
   ]
  },
  {
   "cell_type": "code",
   "execution_count": null,
   "metadata": {},
   "outputs": [],
   "source": [
    "import seaborn as sns\n",
    "import matplotlib.pyplot as plt\n",
    "\n",
    "# Create quantile bins for Annual_Premium, dropping duplicates\n",
    "df['Premium_Bin'] = pd.qcut(df['Annual_Premium'], q=10, duplicates='drop')\n",
    "\n",
    "# Group and calculate response rate per bin\n",
    "premium_response = df.groupby('Premium_Bin')['Response'].mean().reset_index()\n",
    "\n",
    "# Plot\n",
    "plt.figure(figsize=(12, 6))\n",
    "sns.barplot(x='Premium_Bin', y='Response', data=premium_response)\n",
    "plt.xticks(rotation=45)\n",
    "plt.title('Response Rate by Annual Premium Bin')\n",
    "plt.ylabel('Average Response Rate')\n",
    "plt.xlabel('Annual Premium Bin')\n",
    "plt.tight_layout()\n",
    "plt.show()\n"
   ]
  },
  {
   "cell_type": "markdown",
   "metadata": {},
   "source": [
    "### Findings\n",
    "1. Lower Premiums Often Show Higher Response Rates\n",
    "The first few bins (lower premiums) tend to have higher average response rates.\n",
    "\n",
    " Insight: Many customers are price-sensitive; lower premiums convert better.\n",
    "\n",
    " Recommendation: Offer basic or “starter” plans for acquisition.\n",
    "\n",
    "2.  Very High Premiums See Drop-Off\n",
    "Top-end premium bins usually show a drop in response.\n",
    "\n",
    " Insight: These users may find premiums unaffordable or not worth the coverage.\n",
    "\n",
    "Recommendation: Consider adding flexible installment plans or bundling with value-added services.\n",
    "\n",
    "3. Middle Premiums Could Have Mixed Response\n",
    "In some datasets, mid-range premiums have inconsistent patterns.\n",
    "\n",
    "Insight: Other variables (e.g., age, previously insured) likely affect this — so consider interaction effects.\n",
    "\n",
    "Recommendation: Do a multivariate breakdown: premium vs age, region, or gender."
   ]
  },
  {
   "cell_type": "code",
   "execution_count": 7,
   "metadata": {},
   "outputs": [
    {
     "name": "stdout",
     "output_type": "stream",
     "text": [
      "   Vehicle_Damage  Lead_Count  Response_Rate\n",
      "0               0      188696       0.005204\n",
      "1               1      192413       0.237655\n"
     ]
    }
   ],
   "source": [
    "df['Vehicle_Damage'] = df['Vehicle_Damage'].map({'Yes': 1, 'No': 0})  # if not already numeric\n",
    "\n",
    "vehicle_damage_response = df.groupby('Vehicle_Damage')['Response'].agg(['count', 'mean']).reset_index()\n",
    "vehicle_damage_response.columns = ['Vehicle_Damage', 'Lead_Count', 'Response_Rate']\n",
    "print(vehicle_damage_response)\n"
   ]
  },
  {
   "cell_type": "code",
   "execution_count": 8,
   "metadata": {},
   "outputs": [
    {
     "data": {
      "image/png": "[encoded data removed]",
      "text/plain": [
       "<Figure size 432x288 with 1 Axes>"
      ]
     },
     "metadata": {
      "needs_background": "light"
     },
     "output_type": "display_data"
    }
   ],
   "source": [
    "import seaborn as sns\n",
    "import matplotlib.pyplot as plt\n",
    "\n",
    "plt.figure(figsize=(6, 4))\n",
    "sns.barplot(data=vehicle_damage_response, x='Vehicle_Damage', y='Response_Rate')\n",
    "plt.title('Response Rate by Vehicle Damage Status')\n",
    "plt.xlabel('Vehicle Damage (0 = No, 1 = Yes)')\n",
    "plt.ylabel('Average Response Rate')\n",
    "plt.xticks([0, 1], ['No Damage', 'Damage'])\n",
    "plt.tight_layout()\n",
    "plt.show()\n"
   ]
  },
  {
   "cell_type": "code",
   "execution_count": 9,
   "metadata": {},
   "outputs": [],
   "source": [
    "region_response = df.groupby('Region_Code')['Response'].agg(['count', 'mean']).reset_index()\n",
    "region_response.columns = ['Region_Code', 'Lead_Count', 'Response_Rate']\n",
    "region_response = region_response.sort_values('Response_Rate', ascending=False)\n"
   ]
  },
  {
   "cell_type": "code",
   "execution_count": 10,
   "metadata": {},
   "outputs": [
    {
     "data": {
      "image/png": "[encoded data removed]",
      "text/plain": [
       "<Figure size 1008x432 with 1 Axes>"
      ]
     },
     "metadata": {
      "needs_background": "light"
     },
     "output_type": "display_data"
    }
   ],
   "source": [
    "import seaborn as sns\n",
    "import matplotlib.pyplot as plt\n",
    "\n",
    "plt.figure(figsize=(14, 6))\n",
    "sns.barplot(data=region_response, x='Region_Code', y='Response_Rate')\n",
    "plt.xticks(rotation=90)\n",
    "plt.title('Average Response Rate by Region Code')\n",
    "plt.xlabel('Region Code')\n",
    "plt.ylabel('Average Response Rate')\n",
    "plt.tight_layout()\n",
    "plt.show()\n"
   ]
  },
  {
   "cell_type": "code",
   "execution_count": 11,
   "metadata": {},
   "outputs": [
    {
     "data": {
      "image/png": "[encoded data removed]",
      "text/plain": [
       "<Figure size 432x288 with 1 Axes>"
      ]
     },
     "metadata": {
      "needs_background": "light"
     },
     "output_type": "display_data"
    }
   ],
   "source": [
    "import pandas as pd\n",
    "import seaborn as sns\n",
    "import matplotlib.pyplot as plt\n",
    "\n",
    "# Optional: convert Vehicle_Damage to string for clearer labels (if numeric)\n",
    "df['Vehicle_Damage'] = df['Vehicle_Damage'].map({1: 'Yes', 0: 'No'}) if df['Vehicle_Damage'].dtype != 'O' else df['Vehicle_Damage']\n",
    "\n",
    "plt.figure(figsize=(6, 4))\n",
    "sns.countplot(data=df, x='Vehicle_Damage', hue='Response')\n",
    "plt.title('Count of Responses by Vehicle Damage Status')\n",
    "plt.xlabel('Vehicle Damage')\n",
    "plt.ylabel('Number of Leads')\n",
    "plt.legend(title='Response (0 = No, 1 = Yes)')\n",
    "plt.tight_layout()\n",
    "plt.show()\n"
   ]
  },
  {
   "cell_type": "code",
   "execution_count": 34,
   "metadata": {},
   "outputs": [
    {
     "data": {
      "text/html": [
       "<div>\n",
       "<style scoped>\n",
       "    .dataframe tbody tr th:only-of-type {\n",
       "        vertical-align: middle;\n",
       "    }\n",
       "\n",
       "    .dataframe tbody tr th {\n",
       "        vertical-align: top;\n",
       "    }\n",
       "\n",
       "    .dataframe thead th {\n",
       "        text-align: right;\n",
       "    }\n",
       "</style>\n",
       "<table border=\"1\" class=\"dataframe\">\n",
       "  <thead>\n",
       "    <tr style=\"text-align: right;\">\n",
       "      <th></th>\n",
       "      <th>Policy_Sales_Channel</th>\n",
       "      <th>Lead_Count</th>\n",
       "      <th>Response_Rate</th>\n",
       "    </tr>\n",
       "  </thead>\n",
       "  <tbody>\n",
       "    <tr>\n",
       "      <th>118</th>\n",
       "      <td>123.0</td>\n",
       "      <td>1</td>\n",
       "      <td>1.000000</td>\n",
       "    </tr>\n",
       "    <tr>\n",
       "      <th>41</th>\n",
       "      <td>43.0</td>\n",
       "      <td>1</td>\n",
       "      <td>1.000000</td>\n",
       "    </tr>\n",
       "    <tr>\n",
       "      <th>25</th>\n",
       "      <td>27.0</td>\n",
       "      <td>3</td>\n",
       "      <td>0.333333</td>\n",
       "    </tr>\n",
       "    <tr>\n",
       "      <th>26</th>\n",
       "      <td>28.0</td>\n",
       "      <td>3</td>\n",
       "      <td>0.333333</td>\n",
       "    </tr>\n",
       "    <tr>\n",
       "      <th>34</th>\n",
       "      <td>36.0</td>\n",
       "      <td>52</td>\n",
       "      <td>0.326923</td>\n",
       "    </tr>\n",
       "    <tr>\n",
       "      <th>...</th>\n",
       "      <td>...</td>\n",
       "      <td>...</td>\n",
       "      <td>...</td>\n",
       "    </tr>\n",
       "    <tr>\n",
       "      <th>107</th>\n",
       "      <td>112.0</td>\n",
       "      <td>2</td>\n",
       "      <td>0.000000</td>\n",
       "    </tr>\n",
       "    <tr>\n",
       "      <th>94</th>\n",
       "      <td>99.0</td>\n",
       "      <td>7</td>\n",
       "      <td>0.000000</td>\n",
       "    </tr>\n",
       "    <tr>\n",
       "      <th>132</th>\n",
       "      <td>137.0</td>\n",
       "      <td>8</td>\n",
       "      <td>0.000000</td>\n",
       "    </tr>\n",
       "    <tr>\n",
       "      <th>48</th>\n",
       "      <td>50.0</td>\n",
       "      <td>2</td>\n",
       "      <td>0.000000</td>\n",
       "    </tr>\n",
       "    <tr>\n",
       "      <th>80</th>\n",
       "      <td>84.0</td>\n",
       "      <td>1</td>\n",
       "      <td>0.000000</td>\n",
       "    </tr>\n",
       "  </tbody>\n",
       "</table>\n",
       "<p>155 rows × 3 columns</p>\n",
       "</div>"
      ],
      "text/plain": [
       "     Policy_Sales_Channel  Lead_Count  Response_Rate\n",
       "118                 123.0           1       1.000000\n",
       "41                   43.0           1       1.000000\n",
       "25                   27.0           3       0.333333\n",
       "26                   28.0           3       0.333333\n",
       "34                   36.0          52       0.326923\n",
       "..                    ...         ...            ...\n",
       "107                 112.0           2       0.000000\n",
       "94                   99.0           7       0.000000\n",
       "132                 137.0           8       0.000000\n",
       "48                   50.0           2       0.000000\n",
       "80                   84.0           1       0.000000\n",
       "\n",
       "[155 rows x 3 columns]"
      ]
     },
     "execution_count": 34,
     "metadata": {},
     "output_type": "execute_result"
    }
   ],
   "source": [
    "channel_summary = df.groupby('Policy_Sales_Channel')['Response'].agg(['count', 'mean']).reset_index()\n",
    "channel_summary.columns = ['Policy_Sales_Channel', 'Lead_Count', 'Response_Rate']\n",
    "channel_summary = channel_summary.sort_values('Response_Rate', ascending=False)\n",
    "channel_summary"
   ]
  },
  {
   "cell_type": "code",
   "execution_count": 36,
   "metadata": {},
   "outputs": [
    {
     "data": {
      "image/png": "[encoded data removed]",
      "text/plain": [
       "<Figure size 720x432 with 1 Axes>"
      ]
     },
     "metadata": {
      "needs_background": "light"
     },
     "output_type": "display_data"
    }
   ],
   "source": [
    "# Group and sort by response rate\n",
    "channel_summary = df.groupby('Policy_Sales_Channel')['Response'].agg(['count', 'mean']).reset_index()\n",
    "channel_summary.columns = ['Policy_Sales_Channel', 'Lead_Count', 'Response_Rate']\n",
    "\n",
    "# Select top 10 by response rate\n",
    "top10_channels = channel_summary.sort_values('Response_Rate', ascending=False).head(10)\n",
    "\n",
    "# Plot\n",
    "import seaborn as sns\n",
    "import matplotlib.pyplot as plt\n",
    "\n",
    "plt.figure(figsize=(10, 6))\n",
    "sns.barplot(data=top10_channels, x='Policy_Sales_Channel', y='Response_Rate', palette='viridis')\n",
    "plt.title('Top 10 Policy Channels by Response Rate')\n",
    "plt.xlabel('Policy Sales Channel')\n",
    "plt.ylabel('Response Rate')\n",
    "plt.tight_layout()\n",
    "plt.show()\n"
   ]
  },
  {
   "cell_type": "markdown",
   "metadata": {},
   "source": [
    "#### Findings and interpretation\n",
    "Interpretation of the Plot                                                                                             \n",
    "Each bar represents a policy sales channel.                                                                               \n",
    "\n",
    "The height of the bar shows the percentage of leads who responded positively from that channel.                              \n",
    "\n",
    "These are the 10 best-converting channels, not necessarily the ones with the most leads.                                     \n",
    "\n",
    "Business Insights (Based on High Response Rate Channels)                                                                     \n",
    " 1. High-Performing Channels Are Gold                                                                                       \n",
    "Channels at the top (e.g., 26.0, 124.0, etc.) have significantly above-average response rates.                                  \n",
    "\n",
    "These channels likely:                                                                                                  \n",
    "\n",
    "Attract high-intent customers                                                                                              \n",
    "\n",
    "Are operated by more skilled or better-trained agents                                                                          \n",
    "\n",
    "Or reach the right customer segments                                                                                              \n",
    "\n",
    " Recommendation: Invest more in these channels. Boost marketing spend, incentives, or priority access to these leads.\n",
    "\n"
   ]
  },
  {
   "cell_type": "markdown",
   "metadata": {},
   "source": [
    "# Modelling\n",
    "## Data Preprocessing"
   ]
  },
  {
   "cell_type": "code",
   "execution_count": 40,
   "metadata": {},
   "outputs": [],
   "source": [
    "# First I will drop ID columns since its not helpful for the model to learn patterns\n",
    "train_df=train_df.drop(columns=['id'])\n",
    "test_df=test_df.drop(columns=['id'])"
   ]
  },
  {
   "cell_type": "markdown",
   "metadata": {},
   "source": [
    "### Encode Categorical Data"
   ]
  },
  {
   "cell_type": "code",
   "execution_count": 56,
   "metadata": {},
   "outputs": [],
   "source": [
    "# Fisrt, Ensure consistent formatting in string columns:\n",
    "train_df['Gender'] = train_df['Gender'].str.strip().str.title()\n",
    "train_df['Vehicle_Damage'] = train_df['Vehicle_Damage'].str.strip().str.title()\n",
    "train_df['Vehicle_Age'] = train_df['Vehicle_Age'].str.strip()"
   ]
  },
  {
   "cell_type": "code",
   "execution_count": 66,
   "metadata": {},
   "outputs": [],
   "source": [
    "# Set Up Encoders\n",
    "from sklearn.preprocessing import OneHotEncoder, OrdinalEncoder\n",
    "from sklearn.compose import ColumnTransformer\n",
    "\n",
    "# Define which columns to encode\n",
    "onehot_features = ['Gender', 'Vehicle_Damage']\n",
    "ordinal_feature = ['Vehicle_Age']\n",
    "\n",
    "# Define order for Vehicle_Age\n",
    "ordinal_mapping = [['< 1 Year', '1-2 Year', '> 2 Years']]\n",
    "\n",
    "# Create column transformer\n",
    "encoder = ColumnTransformer(transformers=[\n",
    "    ('onehot', OneHotEncoder(drop='first'), onehot_features),  # drop='first' avoids dummy trap\n",
    "    ('ordinal', OrdinalEncoder(categories=ordinal_mapping), ordinal_feature)\n",
    "], remainder='passthrough')  # keep other columns unchanged\n"
   ]
  },
  {
   "cell_type": "code",
   "execution_count": 67,
   "metadata": {},
   "outputs": [],
   "source": [
    "# Drop target column before encoding\n",
    "X_train = train_df.drop(columns=['Response'])\n",
    "\n",
    "# Apply encoding\n",
    "X_encoded = encoder.fit_transform(X_train)\n"
   ]
  },
  {
   "cell_type": "code",
   "execution_count": 68,
   "metadata": {},
   "outputs": [],
   "source": [
    "# Clean test_df same way\n",
    "test_df['Gender'] = test_df['Gender'].str.strip().str.title()\n",
    "test_df['Vehicle_Damage'] = test_df['Vehicle_Damage'].str.strip().str.title()\n",
    "test_df['Vehicle_Age'] = test_df['Vehicle_Age'].str.strip()\n",
    "X_test=test_df\n",
    "\n",
    "# Apply the previously fitted encoder\n",
    "X_test_encoded = encoder.transform(X_test)\n"
   ]
  },
  {
   "cell_type": "code",
   "execution_count": 76,
   "metadata": {
    "scrolled": true
   },
   "outputs": [
    {
     "data": {
      "text/html": [
       "<div>\n",
       "<style scoped>\n",
       "    .dataframe tbody tr th:only-of-type {\n",
       "        vertical-align: middle;\n",
       "    }\n",
       "\n",
       "    .dataframe tbody tr th {\n",
       "        vertical-align: top;\n",
       "    }\n",
       "\n",
       "    .dataframe thead th {\n",
       "        text-align: right;\n",
       "    }\n",
       "</style>\n",
       "<table border=\"1\" class=\"dataframe\">\n",
       "  <thead>\n",
       "    <tr style=\"text-align: right;\">\n",
       "      <th></th>\n",
       "      <th>Gender_Male</th>\n",
       "      <th>Vehicle_Damage_Yes</th>\n",
       "      <th>Vehicle_Age</th>\n",
       "      <th>Age</th>\n",
       "      <th>Driving_License</th>\n",
       "      <th>Region_Code</th>\n",
       "      <th>Previously_Insured</th>\n",
       "      <th>Annual_Premium</th>\n",
       "      <th>Policy_Sales_Channel</th>\n",
       "      <th>Vintage</th>\n",
       "    </tr>\n",
       "  </thead>\n",
       "  <tbody>\n",
       "    <tr>\n",
       "      <th>0</th>\n",
       "      <td>1.0</td>\n",
       "      <td>1.0</td>\n",
       "      <td>2.0</td>\n",
       "      <td>44.0</td>\n",
       "      <td>1.0</td>\n",
       "      <td>28.0</td>\n",
       "      <td>0.0</td>\n",
       "      <td>40454.0</td>\n",
       "      <td>26.0</td>\n",
       "      <td>217.0</td>\n",
       "    </tr>\n",
       "    <tr>\n",
       "      <th>1</th>\n",
       "      <td>1.0</td>\n",
       "      <td>0.0</td>\n",
       "      <td>1.0</td>\n",
       "      <td>76.0</td>\n",
       "      <td>1.0</td>\n",
       "      <td>3.0</td>\n",
       "      <td>0.0</td>\n",
       "      <td>33536.0</td>\n",
       "      <td>26.0</td>\n",
       "      <td>183.0</td>\n",
       "    </tr>\n",
       "    <tr>\n",
       "      <th>2</th>\n",
       "      <td>1.0</td>\n",
       "      <td>1.0</td>\n",
       "      <td>2.0</td>\n",
       "      <td>47.0</td>\n",
       "      <td>1.0</td>\n",
       "      <td>28.0</td>\n",
       "      <td>0.0</td>\n",
       "      <td>38294.0</td>\n",
       "      <td>26.0</td>\n",
       "      <td>27.0</td>\n",
       "    </tr>\n",
       "    <tr>\n",
       "      <th>3</th>\n",
       "      <td>1.0</td>\n",
       "      <td>0.0</td>\n",
       "      <td>0.0</td>\n",
       "      <td>21.0</td>\n",
       "      <td>1.0</td>\n",
       "      <td>11.0</td>\n",
       "      <td>1.0</td>\n",
       "      <td>28619.0</td>\n",
       "      <td>152.0</td>\n",
       "      <td>203.0</td>\n",
       "    </tr>\n",
       "    <tr>\n",
       "      <th>4</th>\n",
       "      <td>0.0</td>\n",
       "      <td>0.0</td>\n",
       "      <td>0.0</td>\n",
       "      <td>29.0</td>\n",
       "      <td>1.0</td>\n",
       "      <td>41.0</td>\n",
       "      <td>1.0</td>\n",
       "      <td>27496.0</td>\n",
       "      <td>152.0</td>\n",
       "      <td>39.0</td>\n",
       "    </tr>\n",
       "    <tr>\n",
       "      <th>...</th>\n",
       "      <td>...</td>\n",
       "      <td>...</td>\n",
       "      <td>...</td>\n",
       "      <td>...</td>\n",
       "      <td>...</td>\n",
       "      <td>...</td>\n",
       "      <td>...</td>\n",
       "      <td>...</td>\n",
       "      <td>...</td>\n",
       "      <td>...</td>\n",
       "    </tr>\n",
       "    <tr>\n",
       "      <th>381104</th>\n",
       "      <td>1.0</td>\n",
       "      <td>0.0</td>\n",
       "      <td>1.0</td>\n",
       "      <td>74.0</td>\n",
       "      <td>1.0</td>\n",
       "      <td>26.0</td>\n",
       "      <td>1.0</td>\n",
       "      <td>30170.0</td>\n",
       "      <td>26.0</td>\n",
       "      <td>88.0</td>\n",
       "    </tr>\n",
       "    <tr>\n",
       "      <th>381105</th>\n",
       "      <td>1.0</td>\n",
       "      <td>0.0</td>\n",
       "      <td>0.0</td>\n",
       "      <td>30.0</td>\n",
       "      <td>1.0</td>\n",
       "      <td>37.0</td>\n",
       "      <td>1.0</td>\n",
       "      <td>40016.0</td>\n",
       "      <td>152.0</td>\n",
       "      <td>131.0</td>\n",
       "    </tr>\n",
       "    <tr>\n",
       "      <th>381106</th>\n",
       "      <td>1.0</td>\n",
       "      <td>0.0</td>\n",
       "      <td>0.0</td>\n",
       "      <td>21.0</td>\n",
       "      <td>1.0</td>\n",
       "      <td>30.0</td>\n",
       "      <td>1.0</td>\n",
       "      <td>35118.0</td>\n",
       "      <td>160.0</td>\n",
       "      <td>161.0</td>\n",
       "    </tr>\n",
       "    <tr>\n",
       "      <th>381107</th>\n",
       "      <td>0.0</td>\n",
       "      <td>1.0</td>\n",
       "      <td>2.0</td>\n",
       "      <td>68.0</td>\n",
       "      <td>1.0</td>\n",
       "      <td>14.0</td>\n",
       "      <td>0.0</td>\n",
       "      <td>44617.0</td>\n",
       "      <td>124.0</td>\n",
       "      <td>74.0</td>\n",
       "    </tr>\n",
       "    <tr>\n",
       "      <th>381108</th>\n",
       "      <td>1.0</td>\n",
       "      <td>0.0</td>\n",
       "      <td>1.0</td>\n",
       "      <td>46.0</td>\n",
       "      <td>1.0</td>\n",
       "      <td>29.0</td>\n",
       "      <td>0.0</td>\n",
       "      <td>41777.0</td>\n",
       "      <td>26.0</td>\n",
       "      <td>237.0</td>\n",
       "    </tr>\n",
       "  </tbody>\n",
       "</table>\n",
       "<p>381109 rows × 10 columns</p>\n",
       "</div>"
      ],
      "text/plain": [
       "        Gender_Male  Vehicle_Damage_Yes  Vehicle_Age   Age  Driving_License  \\\n",
       "0               1.0                 1.0          2.0  44.0              1.0   \n",
       "1               1.0                 0.0          1.0  76.0              1.0   \n",
       "2               1.0                 1.0          2.0  47.0              1.0   \n",
       "3               1.0                 0.0          0.0  21.0              1.0   \n",
       "4               0.0                 0.0          0.0  29.0              1.0   \n",
       "...             ...                 ...          ...   ...              ...   \n",
       "381104          1.0                 0.0          1.0  74.0              1.0   \n",
       "381105          1.0                 0.0          0.0  30.0              1.0   \n",
       "381106          1.0                 0.0          0.0  21.0              1.0   \n",
       "381107          0.0                 1.0          2.0  68.0              1.0   \n",
       "381108          1.0                 0.0          1.0  46.0              1.0   \n",
       "\n",
       "        Region_Code  Previously_Insured  Annual_Premium  Policy_Sales_Channel  \\\n",
       "0              28.0                 0.0         40454.0                  26.0   \n",
       "1               3.0                 0.0         33536.0                  26.0   \n",
       "2              28.0                 0.0         38294.0                  26.0   \n",
       "3              11.0                 1.0         28619.0                 152.0   \n",
       "4              41.0                 1.0         27496.0                 152.0   \n",
       "...             ...                 ...             ...                   ...   \n",
       "381104         26.0                 1.0         30170.0                  26.0   \n",
       "381105         37.0                 1.0         40016.0                 152.0   \n",
       "381106         30.0                 1.0         35118.0                 160.0   \n",
       "381107         14.0                 0.0         44617.0                 124.0   \n",
       "381108         29.0                 0.0         41777.0                  26.0   \n",
       "\n",
       "        Vintage  \n",
       "0         217.0  \n",
       "1         183.0  \n",
       "2          27.0  \n",
       "3         203.0  \n",
       "4          39.0  \n",
       "...         ...  \n",
       "381104     88.0  \n",
       "381105    131.0  \n",
       "381106    161.0  \n",
       "381107     74.0  \n",
       "381108    237.0  \n",
       "\n",
       "[381109 rows x 10 columns]"
      ]
     },
     "execution_count": 76,
     "metadata": {},
     "output_type": "execute_result"
    }
   ],
   "source": [
    "X_encoded_df"
   ]
  },
  {
   "cell_type": "code",
   "execution_count": 74,
   "metadata": {},
   "outputs": [],
   "source": [
    "# Get column names from OneHotEncoder part\n",
    "onehot_columns = encoder.named_transformers_['onehot'].get_feature_names(['Gender', 'Vehicle_Damage'])\n",
    "X_encoded_df = pd.DataFrame(X_encoded, columns=all_columns)\n",
    "\n",
    "# Combine all column names\n",
    "all_columns = list(onehot_columns) + ['Vehicle_Age'] + [col for col in X_test.columns if col not in ['Gender', 'Vehicle_Damage', 'Vehicle_Age']]\n"
   ]
  },
  {
   "cell_type": "markdown",
   "metadata": {},
   "source": [
    "### Scaling"
   ]
  },
  {
   "cell_type": "code",
   "execution_count": 77,
   "metadata": {},
   "outputs": [],
   "source": [
    "columns_to_scale = ['Age', 'Annual_Premium', 'Vintage', 'Policy_Sales_Channel', 'Region_Code']\n",
    "from sklearn.preprocessing import StandardScaler\n",
    "\n",
    "# Initialize scaler\n",
    "scaler = StandardScaler()\n",
    "\n",
    "# Fit and transform on train data\n",
    "X_encoded_df[columns_to_scale] = scaler.fit_transform(X_encoded_df[columns_to_scale])\n",
    "\n",
    "# Transform test data using the same scaler\n",
    "X_test_encoded_df[columns_to_scale] = scaler.transform(X_test_encoded_df[columns_to_scale])\n"
   ]
  },
  {
   "cell_type": "markdown",
   "metadata": {},
   "source": [
    "### Modelling\n"
   ]
  },
  {
   "cell_type": "code",
   "execution_count": 78,
   "metadata": {},
   "outputs": [],
   "source": [
    "from sklearn.model_selection import train_test_split\n",
    "\n",
    "# Define target and features\n",
    "X = X_encoded_df\n",
    "y = train_df['Response']  # original target column from train_df\n",
    "\n",
    "# Split into train and validation sets\n",
    "X_train, X_val, y_train, y_val = train_test_split(X, y, test_size=0.2, random_state=42, stratify=y)\n"
   ]
  },
  {
   "cell_type": "code",
   "execution_count": 79,
   "metadata": {},
   "outputs": [
    {
     "name": "stdout",
     "output_type": "stream",
     "text": [
      "Logistic Regression Results:\n",
      "[[66853    27]\n",
      " [ 9324    18]]\n",
      "              precision    recall  f1-score   support\n",
      "\n",
      "           0       0.88      1.00      0.93     66880\n",
      "           1       0.40      0.00      0.00      9342\n",
      "\n",
      "    accuracy                           0.88     76222\n",
      "   macro avg       0.64      0.50      0.47     76222\n",
      "weighted avg       0.82      0.88      0.82     76222\n",
      "\n"
     ]
    }
   ],
   "source": [
    "from sklearn.linear_model import LogisticRegression\n",
    "from sklearn.metrics import classification_report, confusion_matrix\n",
    "\n",
    "# Initialize and train\n",
    "logreg = LogisticRegression(max_iter=1000)\n",
    "logreg.fit(X_train, y_train)\n",
    "\n",
    "# Predict\n",
    "y_pred_logreg = logreg.predict(X_val)\n",
    "\n",
    "# Evaluate\n",
    "print(\"Logistic Regression Results:\")\n",
    "print(confusion_matrix(y_val, y_pred_logreg))\n",
    "print(classification_report(y_val, y_pred_logreg))\n"
   ]
  },
  {
   "cell_type": "code",
   "execution_count": 83,
   "metadata": {},
   "outputs": [
    {
     "name": "stdout",
     "output_type": "stream",
     "text": [
      "Random Forest Results:\n",
      "[[60765  6115]\n",
      " [ 6238  3104]]\n",
      "              precision    recall  f1-score   support\n",
      "\n",
      "           0       0.91      0.91      0.91     66880\n",
      "           1       0.34      0.33      0.33      9342\n",
      "\n",
      "    accuracy                           0.84     76222\n",
      "   macro avg       0.62      0.62      0.62     76222\n",
      "weighted avg       0.84      0.84      0.84     76222\n",
      "\n"
     ]
    }
   ],
   "source": [
    "from sklearn.ensemble import RandomForestClassifier\n",
    "\n",
    "# Initialize and train\n",
    "rf = RandomForestClassifier(n_estimators=100, random_state=42,class_weight='balanced')\n",
    "rf.fit(X_resampled, y_resampled)\n",
    "# Predict\n",
    "y_pred_rf = rf.predict(X_val)\n",
    "\n",
    "# Evaluate\n",
    "print(\"Random Forest Results:\")\n",
    "print(confusion_matrix(y_val, y_pred_rf))\n",
    "print(classification_report(y_val, y_pred_rf))\n"
   ]
  },
  {
   "cell_type": "code",
   "execution_count": 82,
   "metadata": {},
   "outputs": [],
   "source": [
    "from imblearn.over_sampling import SMOTE\n",
    "\n",
    "# Apply SMOTE on training data\n",
    "smote = SMOTE(random_state=42)\n",
    "X_resampled, y_resampled = smote.fit_resample(X_train, y_train)\n",
    "\n",
    "# Train on resampled data\n",
    "#rf.fit(X_resampled, y_resampled)\n"
   ]
  },
  {
   "cell_type": "code",
   "execution_count": 87,
   "metadata": {},
   "outputs": [
    {
     "name": "stdout",
     "output_type": "stream",
     "text": [
      "[21:52:55] WARNING: C:\\Users\\Administrator\\workspace\\xgboost-win64_release_1.2.0\\src\\learner.cc:516: \n",
      "Parameters: { use_label_encoder } might not be used.\n",
      "\n",
      "  This may not be accurate due to some parameters are only used in language bindings but\n",
      "  passed down to XGBoost core.  Or some parameters are not used but slip through this\n",
      "  verification. Please open an issue if you find above cases.\n",
      "\n",
      "\n",
      "[[46148 20732]\n",
      " [  899  8443]]\n",
      "              precision    recall  f1-score   support\n",
      "\n",
      "           0       0.98      0.69      0.81     66880\n",
      "           1       0.29      0.90      0.44      9342\n",
      "\n",
      "    accuracy                           0.72     76222\n",
      "   macro avg       0.64      0.80      0.62     76222\n",
      "weighted avg       0.90      0.72      0.76     76222\n",
      "\n",
      "ROC AUC Score: 0.8557511715560944\n"
     ]
    }
   ],
   "source": [
    "from xgboost import XGBClassifier\n",
    "\n",
    "xgb = XGBClassifier(scale_pos_weight=len(y_train[y_train==0]) / len(y_train[y_train==1]), use_label_encoder=False, eval_metric='logloss')\n",
    "xgb.fit(X_train, y_train)\n",
    "y_pred_xgb = xgb.predict(X_val)\n",
    "\n",
    "from sklearn.metrics import classification_report, confusion_matrix, roc_auc_score\n",
    "\n",
    "print(confusion_matrix(y_val, y_pred_xgb))\n",
    "print(classification_report(y_val, y_pred_xgb))\n",
    "print(\"ROC AUC Score:\", roc_auc_score(y_val, xgb.predict_proba(X_val)[:,1]))\n",
    "\n"
   ]
  },
  {
   "cell_type": "code",
   "execution_count": 88,
   "metadata": {},
   "outputs": [
    {
     "name": "stdout",
     "output_type": "stream",
     "text": [
      "Fitting 3 folds for each of 20 candidates, totalling 60 fits\n"
     ]
    },
    {
     "name": "stderr",
     "output_type": "stream",
     "text": [
      "[Parallel(n_jobs=1)]: Using backend SequentialBackend with 1 concurrent workers.\n"
     ]
    },
    {
     "name": "stdout",
     "output_type": "stream",
     "text": [
      "[21:55:15] WARNING: C:\\Users\\Administrator\\workspace\\xgboost-win64_release_1.2.0\\src\\learner.cc:516: \n",
      "Parameters: { use_label_encoder } might not be used.\n",
      "\n",
      "  This may not be accurate due to some parameters are only used in language bindings but\n",
      "  passed down to XGBoost core.  Or some parameters are not used but slip through this\n",
      "  verification. Please open an issue if you find above cases.\n",
      "\n",
      "\n",
      "[21:56:26] WARNING: C:\\Users\\Administrator\\workspace\\xgboost-win64_release_1.2.0\\src\\learner.cc:516: \n",
      "Parameters: { use_label_encoder } might not be used.\n",
      "\n",
      "  This may not be accurate due to some parameters are only used in language bindings but\n",
      "  passed down to XGBoost core.  Or some parameters are not used but slip through this\n",
      "  verification. Please open an issue if you find above cases.\n",
      "\n",
      "\n",
      "[21:57:37] WARNING: C:\\Users\\Administrator\\workspace\\xgboost-win64_release_1.2.0\\src\\learner.cc:516: \n",
      "Parameters: { use_label_encoder } might not be used.\n",
      "\n",
      "  This may not be accurate due to some parameters are only used in language bindings but\n",
      "  passed down to XGBoost core.  Or some parameters are not used but slip through this\n",
      "  verification. Please open an issue if you find above cases.\n",
      "\n",
      "\n",
      "[21:58:45] WARNING: C:\\Users\\Administrator\\workspace\\xgboost-win64_release_1.2.0\\src\\learner.cc:516: \n",
      "Parameters: { use_label_encoder } might not be used.\n",
      "\n",
      "  This may not be accurate due to some parameters are only used in language bindings but\n",
      "  passed down to XGBoost core.  Or some parameters are not used but slip through this\n",
      "  verification. Please open an issue if you find above cases.\n",
      "\n",
      "\n",
      "[21:58:51] WARNING: C:\\Users\\Administrator\\workspace\\xgboost-win64_release_1.2.0\\src\\learner.cc:516: \n",
      "Parameters: { use_label_encoder } might not be used.\n",
      "\n",
      "  This may not be accurate due to some parameters are only used in language bindings but\n",
      "  passed down to XGBoost core.  Or some parameters are not used but slip through this\n",
      "  verification. Please open an issue if you find above cases.\n",
      "\n",
      "\n",
      "[21:58:57] WARNING: C:\\Users\\Administrator\\workspace\\xgboost-win64_release_1.2.0\\src\\learner.cc:516: \n",
      "Parameters: { use_label_encoder } might not be used.\n",
      "\n",
      "  This may not be accurate due to some parameters are only used in language bindings but\n",
      "  passed down to XGBoost core.  Or some parameters are not used but slip through this\n",
      "  verification. Please open an issue if you find above cases.\n",
      "\n",
      "\n",
      "[21:59:04] WARNING: C:\\Users\\Administrator\\workspace\\xgboost-win64_release_1.2.0\\src\\learner.cc:516: \n",
      "Parameters: { use_label_encoder } might not be used.\n",
      "\n",
      "  This may not be accurate due to some parameters are only used in language bindings but\n",
      "  passed down to XGBoost core.  Or some parameters are not used but slip through this\n",
      "  verification. Please open an issue if you find above cases.\n",
      "\n",
      "\n",
      "[21:59:20] WARNING: C:\\Users\\Administrator\\workspace\\xgboost-win64_release_1.2.0\\src\\learner.cc:516: \n",
      "Parameters: { use_label_encoder } might not be used.\n",
      "\n",
      "  This may not be accurate due to some parameters are only used in language bindings but\n",
      "  passed down to XGBoost core.  Or some parameters are not used but slip through this\n",
      "  verification. Please open an issue if you find above cases.\n",
      "\n",
      "\n",
      "[21:59:36] WARNING: C:\\Users\\Administrator\\workspace\\xgboost-win64_release_1.2.0\\src\\learner.cc:516: \n",
      "Parameters: { use_label_encoder } might not be used.\n",
      "\n",
      "  This may not be accurate due to some parameters are only used in language bindings but\n",
      "  passed down to XGBoost core.  Or some parameters are not used but slip through this\n",
      "  verification. Please open an issue if you find above cases.\n",
      "\n",
      "\n",
      "[21:59:52] WARNING: C:\\Users\\Administrator\\workspace\\xgboost-win64_release_1.2.0\\src\\learner.cc:516: \n",
      "Parameters: { use_label_encoder } might not be used.\n",
      "\n",
      "  This may not be accurate due to some parameters are only used in language bindings but\n",
      "  passed down to XGBoost core.  Or some parameters are not used but slip through this\n",
      "  verification. Please open an issue if you find above cases.\n",
      "\n",
      "\n",
      "[22:01:09] WARNING: C:\\Users\\Administrator\\workspace\\xgboost-win64_release_1.2.0\\src\\learner.cc:516: \n",
      "Parameters: { use_label_encoder } might not be used.\n",
      "\n",
      "  This may not be accurate due to some parameters are only used in language bindings but\n",
      "  passed down to XGBoost core.  Or some parameters are not used but slip through this\n",
      "  verification. Please open an issue if you find above cases.\n",
      "\n",
      "\n",
      "[22:02:17] WARNING: C:\\Users\\Administrator\\workspace\\xgboost-win64_release_1.2.0\\src\\learner.cc:516: \n",
      "Parameters: { use_label_encoder } might not be used.\n",
      "\n",
      "  This may not be accurate due to some parameters are only used in language bindings but\n",
      "  passed down to XGBoost core.  Or some parameters are not used but slip through this\n",
      "  verification. Please open an issue if you find above cases.\n",
      "\n",
      "\n",
      "[22:03:20] WARNING: C:\\Users\\Administrator\\workspace\\xgboost-win64_release_1.2.0\\src\\learner.cc:516: \n",
      "Parameters: { use_label_encoder } might not be used.\n",
      "\n",
      "  This may not be accurate due to some parameters are only used in language bindings but\n",
      "  passed down to XGBoost core.  Or some parameters are not used but slip through this\n",
      "  verification. Please open an issue if you find above cases.\n",
      "\n",
      "\n",
      "[22:04:23] WARNING: C:\\Users\\Administrator\\workspace\\xgboost-win64_release_1.2.0\\src\\learner.cc:516: \n",
      "Parameters: { use_label_encoder } might not be used.\n",
      "\n",
      "  This may not be accurate due to some parameters are only used in language bindings but\n",
      "  passed down to XGBoost core.  Or some parameters are not used but slip through this\n",
      "  verification. Please open an issue if you find above cases.\n",
      "\n",
      "\n",
      "[22:05:24] WARNING: C:\\Users\\Administrator\\workspace\\xgboost-win64_release_1.2.0\\src\\learner.cc:516: \n",
      "Parameters: { use_label_encoder } might not be used.\n",
      "\n",
      "  This may not be accurate due to some parameters are only used in language bindings but\n",
      "  passed down to XGBoost core.  Or some parameters are not used but slip through this\n",
      "  verification. Please open an issue if you find above cases.\n",
      "\n",
      "\n",
      "[22:06:26] WARNING: C:\\Users\\Administrator\\workspace\\xgboost-win64_release_1.2.0\\src\\learner.cc:516: \n",
      "Parameters: { use_label_encoder } might not be used.\n",
      "\n",
      "  This may not be accurate due to some parameters are only used in language bindings but\n",
      "  passed down to XGBoost core.  Or some parameters are not used but slip through this\n",
      "  verification. Please open an issue if you find above cases.\n",
      "\n",
      "\n",
      "[22:06:48] WARNING: C:\\Users\\Administrator\\workspace\\xgboost-win64_release_1.2.0\\src\\learner.cc:516: \n",
      "Parameters: { use_label_encoder } might not be used.\n",
      "\n",
      "  This may not be accurate due to some parameters are only used in language bindings but\n",
      "  passed down to XGBoost core.  Or some parameters are not used but slip through this\n",
      "  verification. Please open an issue if you find above cases.\n",
      "\n",
      "\n",
      "[22:07:10] WARNING: C:\\Users\\Administrator\\workspace\\xgboost-win64_release_1.2.0\\src\\learner.cc:516: \n",
      "Parameters: { use_label_encoder } might not be used.\n",
      "\n",
      "  This may not be accurate due to some parameters are only used in language bindings but\n",
      "  passed down to XGBoost core.  Or some parameters are not used but slip through this\n",
      "  verification. Please open an issue if you find above cases.\n",
      "\n",
      "\n",
      "[22:07:32] WARNING: C:\\Users\\Administrator\\workspace\\xgboost-win64_release_1.2.0\\src\\learner.cc:516: \n",
      "Parameters: { use_label_encoder } might not be used.\n",
      "\n",
      "  This may not be accurate due to some parameters are only used in language bindings but\n",
      "  passed down to XGBoost core.  Or some parameters are not used but slip through this\n",
      "  verification. Please open an issue if you find above cases.\n",
      "\n",
      "\n",
      "[22:07:56] WARNING: C:\\Users\\Administrator\\workspace\\xgboost-win64_release_1.2.0\\src\\learner.cc:516: \n",
      "Parameters: { use_label_encoder } might not be used.\n",
      "\n",
      "  This may not be accurate due to some parameters are only used in language bindings but\n",
      "  passed down to XGBoost core.  Or some parameters are not used but slip through this\n",
      "  verification. Please open an issue if you find above cases.\n",
      "\n",
      "\n",
      "[22:08:20] WARNING: C:\\Users\\Administrator\\workspace\\xgboost-win64_release_1.2.0\\src\\learner.cc:516: \n",
      "Parameters: { use_label_encoder } might not be used.\n",
      "\n",
      "  This may not be accurate due to some parameters are only used in language bindings but\n",
      "  passed down to XGBoost core.  Or some parameters are not used but slip through this\n",
      "  verification. Please open an issue if you find above cases.\n",
      "\n",
      "\n"
     ]
    },
    {
     "name": "stdout",
     "output_type": "stream",
     "text": [
      "[22:08:44] WARNING: C:\\Users\\Administrator\\workspace\\xgboost-win64_release_1.2.0\\src\\learner.cc:516: \n",
      "Parameters: { use_label_encoder } might not be used.\n",
      "\n",
      "  This may not be accurate due to some parameters are only used in language bindings but\n",
      "  passed down to XGBoost core.  Or some parameters are not used but slip through this\n",
      "  verification. Please open an issue if you find above cases.\n",
      "\n",
      "\n",
      "[22:09:09] WARNING: C:\\Users\\Administrator\\workspace\\xgboost-win64_release_1.2.0\\src\\learner.cc:516: \n",
      "Parameters: { use_label_encoder } might not be used.\n",
      "\n",
      "  This may not be accurate due to some parameters are only used in language bindings but\n",
      "  passed down to XGBoost core.  Or some parameters are not used but slip through this\n",
      "  verification. Please open an issue if you find above cases.\n",
      "\n",
      "\n",
      "[22:09:35] WARNING: C:\\Users\\Administrator\\workspace\\xgboost-win64_release_1.2.0\\src\\learner.cc:516: \n",
      "Parameters: { use_label_encoder } might not be used.\n",
      "\n",
      "  This may not be accurate due to some parameters are only used in language bindings but\n",
      "  passed down to XGBoost core.  Or some parameters are not used but slip through this\n",
      "  verification. Please open an issue if you find above cases.\n",
      "\n",
      "\n",
      "[22:10:00] WARNING: C:\\Users\\Administrator\\workspace\\xgboost-win64_release_1.2.0\\src\\learner.cc:516: \n",
      "Parameters: { use_label_encoder } might not be used.\n",
      "\n",
      "  This may not be accurate due to some parameters are only used in language bindings but\n",
      "  passed down to XGBoost core.  Or some parameters are not used but slip through this\n",
      "  verification. Please open an issue if you find above cases.\n",
      "\n",
      "\n",
      "[22:10:58] WARNING: C:\\Users\\Administrator\\workspace\\xgboost-win64_release_1.2.0\\src\\learner.cc:516: \n",
      "Parameters: { use_label_encoder } might not be used.\n",
      "\n",
      "  This may not be accurate due to some parameters are only used in language bindings but\n",
      "  passed down to XGBoost core.  Or some parameters are not used but slip through this\n",
      "  verification. Please open an issue if you find above cases.\n",
      "\n",
      "\n",
      "[22:11:56] WARNING: C:\\Users\\Administrator\\workspace\\xgboost-win64_release_1.2.0\\src\\learner.cc:516: \n",
      "Parameters: { use_label_encoder } might not be used.\n",
      "\n",
      "  This may not be accurate due to some parameters are only used in language bindings but\n",
      "  passed down to XGBoost core.  Or some parameters are not used but slip through this\n",
      "  verification. Please open an issue if you find above cases.\n",
      "\n",
      "\n",
      "[22:12:53] WARNING: C:\\Users\\Administrator\\workspace\\xgboost-win64_release_1.2.0\\src\\learner.cc:516: \n",
      "Parameters: { use_label_encoder } might not be used.\n",
      "\n",
      "  This may not be accurate due to some parameters are only used in language bindings but\n",
      "  passed down to XGBoost core.  Or some parameters are not used but slip through this\n",
      "  verification. Please open an issue if you find above cases.\n",
      "\n",
      "\n",
      "[22:13:02] WARNING: C:\\Users\\Administrator\\workspace\\xgboost-win64_release_1.2.0\\src\\learner.cc:516: \n",
      "Parameters: { use_label_encoder } might not be used.\n",
      "\n",
      "  This may not be accurate due to some parameters are only used in language bindings but\n",
      "  passed down to XGBoost core.  Or some parameters are not used but slip through this\n",
      "  verification. Please open an issue if you find above cases.\n",
      "\n",
      "\n",
      "[22:13:11] WARNING: C:\\Users\\Administrator\\workspace\\xgboost-win64_release_1.2.0\\src\\learner.cc:516: \n",
      "Parameters: { use_label_encoder } might not be used.\n",
      "\n",
      "  This may not be accurate due to some parameters are only used in language bindings but\n",
      "  passed down to XGBoost core.  Or some parameters are not used but slip through this\n",
      "  verification. Please open an issue if you find above cases.\n",
      "\n",
      "\n",
      "[22:13:20] WARNING: C:\\Users\\Administrator\\workspace\\xgboost-win64_release_1.2.0\\src\\learner.cc:516: \n",
      "Parameters: { use_label_encoder } might not be used.\n",
      "\n",
      "  This may not be accurate due to some parameters are only used in language bindings but\n",
      "  passed down to XGBoost core.  Or some parameters are not used but slip through this\n",
      "  verification. Please open an issue if you find above cases.\n",
      "\n",
      "\n",
      "[22:13:38] WARNING: C:\\Users\\Administrator\\workspace\\xgboost-win64_release_1.2.0\\src\\learner.cc:516: \n",
      "Parameters: { use_label_encoder } might not be used.\n",
      "\n",
      "  This may not be accurate due to some parameters are only used in language bindings but\n",
      "  passed down to XGBoost core.  Or some parameters are not used but slip through this\n",
      "  verification. Please open an issue if you find above cases.\n",
      "\n",
      "\n",
      "[22:13:54] WARNING: C:\\Users\\Administrator\\workspace\\xgboost-win64_release_1.2.0\\src\\learner.cc:516: \n",
      "Parameters: { use_label_encoder } might not be used.\n",
      "\n",
      "  This may not be accurate due to some parameters are only used in language bindings but\n",
      "  passed down to XGBoost core.  Or some parameters are not used but slip through this\n",
      "  verification. Please open an issue if you find above cases.\n",
      "\n",
      "\n",
      "[22:14:11] WARNING: C:\\Users\\Administrator\\workspace\\xgboost-win64_release_1.2.0\\src\\learner.cc:516: \n",
      "Parameters: { use_label_encoder } might not be used.\n",
      "\n",
      "  This may not be accurate due to some parameters are only used in language bindings but\n",
      "  passed down to XGBoost core.  Or some parameters are not used but slip through this\n",
      "  verification. Please open an issue if you find above cases.\n",
      "\n",
      "\n",
      "[22:16:11] WARNING: C:\\Users\\Administrator\\workspace\\xgboost-win64_release_1.2.0\\src\\learner.cc:516: \n",
      "Parameters: { use_label_encoder } might not be used.\n",
      "\n",
      "  This may not be accurate due to some parameters are only used in language bindings but\n",
      "  passed down to XGBoost core.  Or some parameters are not used but slip through this\n",
      "  verification. Please open an issue if you find above cases.\n",
      "\n",
      "\n",
      "[22:18:04] WARNING: C:\\Users\\Administrator\\workspace\\xgboost-win64_release_1.2.0\\src\\learner.cc:516: \n",
      "Parameters: { use_label_encoder } might not be used.\n",
      "\n",
      "  This may not be accurate due to some parameters are only used in language bindings but\n",
      "  passed down to XGBoost core.  Or some parameters are not used but slip through this\n",
      "  verification. Please open an issue if you find above cases.\n",
      "\n",
      "\n",
      "[22:19:58] WARNING: C:\\Users\\Administrator\\workspace\\xgboost-win64_release_1.2.0\\src\\learner.cc:516: \n",
      "Parameters: { use_label_encoder } might not be used.\n",
      "\n",
      "  This may not be accurate due to some parameters are only used in language bindings but\n",
      "  passed down to XGBoost core.  Or some parameters are not used but slip through this\n",
      "  verification. Please open an issue if you find above cases.\n",
      "\n",
      "\n",
      "[22:20:18] WARNING: C:\\Users\\Administrator\\workspace\\xgboost-win64_release_1.2.0\\src\\learner.cc:516: \n",
      "Parameters: { use_label_encoder } might not be used.\n",
      "\n",
      "  This may not be accurate due to some parameters are only used in language bindings but\n",
      "  passed down to XGBoost core.  Or some parameters are not used but slip through this\n",
      "  verification. Please open an issue if you find above cases.\n",
      "\n",
      "\n",
      "[22:20:37] WARNING: C:\\Users\\Administrator\\workspace\\xgboost-win64_release_1.2.0\\src\\learner.cc:516: \n",
      "Parameters: { use_label_encoder } might not be used.\n",
      "\n",
      "  This may not be accurate due to some parameters are only used in language bindings but\n",
      "  passed down to XGBoost core.  Or some parameters are not used but slip through this\n",
      "  verification. Please open an issue if you find above cases.\n",
      "\n",
      "\n",
      "[22:20:56] WARNING: C:\\Users\\Administrator\\workspace\\xgboost-win64_release_1.2.0\\src\\learner.cc:516: \n",
      "Parameters: { use_label_encoder } might not be used.\n",
      "\n",
      "  This may not be accurate due to some parameters are only used in language bindings but\n",
      "  passed down to XGBoost core.  Or some parameters are not used but slip through this\n",
      "  verification. Please open an issue if you find above cases.\n",
      "\n",
      "\n",
      "[22:21:48] WARNING: C:\\Users\\Administrator\\workspace\\xgboost-win64_release_1.2.0\\src\\learner.cc:516: \n",
      "Parameters: { use_label_encoder } might not be used.\n",
      "\n",
      "  This may not be accurate due to some parameters are only used in language bindings but\n",
      "  passed down to XGBoost core.  Or some parameters are not used but slip through this\n",
      "  verification. Please open an issue if you find above cases.\n",
      "\n",
      "\n",
      "[22:22:38] WARNING: C:\\Users\\Administrator\\workspace\\xgboost-win64_release_1.2.0\\src\\learner.cc:516: \n",
      "Parameters: { use_label_encoder } might not be used.\n",
      "\n",
      "  This may not be accurate due to some parameters are only used in language bindings but\n",
      "  passed down to XGBoost core.  Or some parameters are not used but slip through this\n",
      "  verification. Please open an issue if you find above cases.\n",
      "\n",
      "\n"
     ]
    },
    {
     "name": "stdout",
     "output_type": "stream",
     "text": [
      "[22:23:29] WARNING: C:\\Users\\Administrator\\workspace\\xgboost-win64_release_1.2.0\\src\\learner.cc:516: \n",
      "Parameters: { use_label_encoder } might not be used.\n",
      "\n",
      "  This may not be accurate due to some parameters are only used in language bindings but\n",
      "  passed down to XGBoost core.  Or some parameters are not used but slip through this\n",
      "  verification. Please open an issue if you find above cases.\n",
      "\n",
      "\n",
      "[22:23:43] WARNING: C:\\Users\\Administrator\\workspace\\xgboost-win64_release_1.2.0\\src\\learner.cc:516: \n",
      "Parameters: { use_label_encoder } might not be used.\n",
      "\n",
      "  This may not be accurate due to some parameters are only used in language bindings but\n",
      "  passed down to XGBoost core.  Or some parameters are not used but slip through this\n",
      "  verification. Please open an issue if you find above cases.\n",
      "\n",
      "\n",
      "[22:23:57] WARNING: C:\\Users\\Administrator\\workspace\\xgboost-win64_release_1.2.0\\src\\learner.cc:516: \n",
      "Parameters: { use_label_encoder } might not be used.\n",
      "\n",
      "  This may not be accurate due to some parameters are only used in language bindings but\n",
      "  passed down to XGBoost core.  Or some parameters are not used but slip through this\n",
      "  verification. Please open an issue if you find above cases.\n",
      "\n",
      "\n",
      "[22:24:10] WARNING: C:\\Users\\Administrator\\workspace\\xgboost-win64_release_1.2.0\\src\\learner.cc:516: \n",
      "Parameters: { use_label_encoder } might not be used.\n",
      "\n",
      "  This may not be accurate due to some parameters are only used in language bindings but\n",
      "  passed down to XGBoost core.  Or some parameters are not used but slip through this\n",
      "  verification. Please open an issue if you find above cases.\n",
      "\n",
      "\n",
      "[22:24:37] WARNING: C:\\Users\\Administrator\\workspace\\xgboost-win64_release_1.2.0\\src\\learner.cc:516: \n",
      "Parameters: { use_label_encoder } might not be used.\n",
      "\n",
      "  This may not be accurate due to some parameters are only used in language bindings but\n",
      "  passed down to XGBoost core.  Or some parameters are not used but slip through this\n",
      "  verification. Please open an issue if you find above cases.\n",
      "\n",
      "\n",
      "[22:25:03] WARNING: C:\\Users\\Administrator\\workspace\\xgboost-win64_release_1.2.0\\src\\learner.cc:516: \n",
      "Parameters: { use_label_encoder } might not be used.\n",
      "\n",
      "  This may not be accurate due to some parameters are only used in language bindings but\n",
      "  passed down to XGBoost core.  Or some parameters are not used but slip through this\n",
      "  verification. Please open an issue if you find above cases.\n",
      "\n",
      "\n",
      "[22:25:29] WARNING: C:\\Users\\Administrator\\workspace\\xgboost-win64_release_1.2.0\\src\\learner.cc:516: \n",
      "Parameters: { use_label_encoder } might not be used.\n",
      "\n",
      "  This may not be accurate due to some parameters are only used in language bindings but\n",
      "  passed down to XGBoost core.  Or some parameters are not used but slip through this\n",
      "  verification. Please open an issue if you find above cases.\n",
      "\n",
      "\n",
      "[22:25:42] WARNING: C:\\Users\\Administrator\\workspace\\xgboost-win64_release_1.2.0\\src\\learner.cc:516: \n",
      "Parameters: { use_label_encoder } might not be used.\n",
      "\n",
      "  This may not be accurate due to some parameters are only used in language bindings but\n",
      "  passed down to XGBoost core.  Or some parameters are not used but slip through this\n",
      "  verification. Please open an issue if you find above cases.\n",
      "\n",
      "\n",
      "[22:25:55] WARNING: C:\\Users\\Administrator\\workspace\\xgboost-win64_release_1.2.0\\src\\learner.cc:516: \n",
      "Parameters: { use_label_encoder } might not be used.\n",
      "\n",
      "  This may not be accurate due to some parameters are only used in language bindings but\n",
      "  passed down to XGBoost core.  Or some parameters are not used but slip through this\n",
      "  verification. Please open an issue if you find above cases.\n",
      "\n",
      "\n",
      "[22:26:08] WARNING: C:\\Users\\Administrator\\workspace\\xgboost-win64_release_1.2.0\\src\\learner.cc:516: \n",
      "Parameters: { use_label_encoder } might not be used.\n",
      "\n",
      "  This may not be accurate due to some parameters are only used in language bindings but\n",
      "  passed down to XGBoost core.  Or some parameters are not used but slip through this\n",
      "  verification. Please open an issue if you find above cases.\n",
      "\n",
      "\n",
      "[22:26:17] WARNING: C:\\Users\\Administrator\\workspace\\xgboost-win64_release_1.2.0\\src\\learner.cc:516: \n",
      "Parameters: { use_label_encoder } might not be used.\n",
      "\n",
      "  This may not be accurate due to some parameters are only used in language bindings but\n",
      "  passed down to XGBoost core.  Or some parameters are not used but slip through this\n",
      "  verification. Please open an issue if you find above cases.\n",
      "\n",
      "\n",
      "[22:26:26] WARNING: C:\\Users\\Administrator\\workspace\\xgboost-win64_release_1.2.0\\src\\learner.cc:516: \n",
      "Parameters: { use_label_encoder } might not be used.\n",
      "\n",
      "  This may not be accurate due to some parameters are only used in language bindings but\n",
      "  passed down to XGBoost core.  Or some parameters are not used but slip through this\n",
      "  verification. Please open an issue if you find above cases.\n",
      "\n",
      "\n",
      "[22:26:35] WARNING: C:\\Users\\Administrator\\workspace\\xgboost-win64_release_1.2.0\\src\\learner.cc:516: \n",
      "Parameters: { use_label_encoder } might not be used.\n",
      "\n",
      "  This may not be accurate due to some parameters are only used in language bindings but\n",
      "  passed down to XGBoost core.  Or some parameters are not used but slip through this\n",
      "  verification. Please open an issue if you find above cases.\n",
      "\n",
      "\n",
      "[22:26:52] WARNING: C:\\Users\\Administrator\\workspace\\xgboost-win64_release_1.2.0\\src\\learner.cc:516: \n",
      "Parameters: { use_label_encoder } might not be used.\n",
      "\n",
      "  This may not be accurate due to some parameters are only used in language bindings but\n",
      "  passed down to XGBoost core.  Or some parameters are not used but slip through this\n",
      "  verification. Please open an issue if you find above cases.\n",
      "\n",
      "\n",
      "[22:27:10] WARNING: C:\\Users\\Administrator\\workspace\\xgboost-win64_release_1.2.0\\src\\learner.cc:516: \n",
      "Parameters: { use_label_encoder } might not be used.\n",
      "\n",
      "  This may not be accurate due to some parameters are only used in language bindings but\n",
      "  passed down to XGBoost core.  Or some parameters are not used but slip through this\n",
      "  verification. Please open an issue if you find above cases.\n",
      "\n",
      "\n",
      "[22:27:27] WARNING: C:\\Users\\Administrator\\workspace\\xgboost-win64_release_1.2.0\\src\\learner.cc:516: \n",
      "Parameters: { use_label_encoder } might not be used.\n",
      "\n",
      "  This may not be accurate due to some parameters are only used in language bindings but\n",
      "  passed down to XGBoost core.  Or some parameters are not used but slip through this\n",
      "  verification. Please open an issue if you find above cases.\n",
      "\n",
      "\n",
      "[22:28:40] WARNING: C:\\Users\\Administrator\\workspace\\xgboost-win64_release_1.2.0\\src\\learner.cc:516: \n",
      "Parameters: { use_label_encoder } might not be used.\n",
      "\n",
      "  This may not be accurate due to some parameters are only used in language bindings but\n",
      "  passed down to XGBoost core.  Or some parameters are not used but slip through this\n",
      "  verification. Please open an issue if you find above cases.\n",
      "\n",
      "\n",
      "[22:29:53] WARNING: C:\\Users\\Administrator\\workspace\\xgboost-win64_release_1.2.0\\src\\learner.cc:516: \n",
      "Parameters: { use_label_encoder } might not be used.\n",
      "\n",
      "  This may not be accurate due to some parameters are only used in language bindings but\n",
      "  passed down to XGBoost core.  Or some parameters are not used but slip through this\n",
      "  verification. Please open an issue if you find above cases.\n",
      "\n",
      "\n"
     ]
    },
    {
     "name": "stderr",
     "output_type": "stream",
     "text": [
      "[Parallel(n_jobs=1)]: Done  60 out of  60 | elapsed: 35.8min finished\n"
     ]
    },
    {
     "name": "stdout",
     "output_type": "stream",
     "text": [
      "[22:31:04] WARNING: C:\\Users\\Administrator\\workspace\\xgboost-win64_release_1.2.0\\src\\learner.cc:516: \n",
      "Parameters: { use_label_encoder } might not be used.\n",
      "\n",
      "  This may not be accurate due to some parameters are only used in language bindings but\n",
      "  passed down to XGBoost core.  Or some parameters are not used but slip through this\n",
      "  verification. Please open an issue if you find above cases.\n",
      "\n",
      "\n"
     ]
    }
   ],
   "source": [
    "from sklearn.model_selection import RandomizedSearchCV\n",
    "\n",
    "param_grid = {\n",
    "    'n_estimators': [100, 300, 500],\n",
    "    'max_depth': [3, 5, 7, 10],\n",
    "    'learning_rate': [0.01, 0.05, 0.1],\n",
    "    'subsample': [0.8, 1.0],\n",
    "    'colsample_bytree': [0.8, 1.0],\n",
    "    'scale_pos_weight': [6, 7, 8]  # adjust based on imbalance\n",
    "}\n",
    "\n",
    "xgb = XGBClassifier(use_label_encoder=False, eval_metric='logloss')\n",
    "\n",
    "search = RandomizedSearchCV(xgb, param_grid, n_iter=20, scoring='roc_auc', cv=3, random_state=42, verbose=1)\n",
    "search.fit(X_train, y_train)\n",
    "\n",
    "best_model = search.best_estimator_\n"
   ]
  },
  {
   "cell_type": "code",
   "execution_count": 90,
   "metadata": {},
   "outputs": [
    {
     "name": "stdout",
     "output_type": "stream",
     "text": [
      "[[45181 21699]\n",
      " [  693  8649]]\n",
      "              precision    recall  f1-score   support\n",
      "\n",
      "           0       0.98      0.68      0.80     66880\n",
      "           1       0.28      0.93      0.44      9342\n",
      "\n",
      "    accuracy                           0.71     76222\n",
      "   macro avg       0.63      0.80      0.62     76222\n",
      "weighted avg       0.90      0.71      0.76     76222\n",
      "\n",
      "ROC AUC Score: 0.8579012958148569\n"
     ]
    }
   ],
   "source": [
    "from sklearn.metrics import classification_report, confusion_matrix, roc_auc_score\n",
    "\n",
    "# Predict labels and probabilities\n",
    "y_pred = best_model.predict(X_val)\n",
    "y_proba = best_model.predict_proba(X_val)[:, 1]\n",
    "\n",
    "# Evaluate\n",
    "print(confusion_matrix(y_val, y_pred))\n",
    "print(classification_report(y_val, y_pred))\n",
    "print(\"ROC AUC Score:\", roc_auc_score(y_val, y_proba))\n"
   ]
  },
  {
   "cell_type": "code",
   "execution_count": 89,
   "metadata": {},
   "outputs": [
    {
     "name": "stdout",
     "output_type": "stream",
     "text": [
      "Fitting 3 folds for each of 20 candidates, totalling 60 fits\n"
     ]
    },
    {
     "name": "stderr",
     "output_type": "stream",
     "text": [
      "[Parallel(n_jobs=-1)]: Using backend LokyBackend with 4 concurrent workers.\n",
      "[Parallel(n_jobs=-1)]: Done  42 tasks      | elapsed: 29.3min\n",
      "[Parallel(n_jobs=-1)]: Done  60 out of  60 | elapsed: 41.1min finished\n"
     ]
    },
    {
     "name": "stdout",
     "output_type": "stream",
     "text": [
      "Best Random Forest Results:\n",
      "[[44084 22796]\n",
      " [  602  8740]]\n",
      "              precision    recall  f1-score   support\n",
      "\n",
      "           0       0.99      0.66      0.79     66880\n",
      "           1       0.28      0.94      0.43      9342\n",
      "\n",
      "    accuracy                           0.69     76222\n",
      "   macro avg       0.63      0.80      0.61     76222\n",
      "weighted avg       0.90      0.69      0.75     76222\n",
      "\n",
      "ROC AUC Score: 0.8548482724581274\n"
     ]
    }
   ],
   "source": [
    "from sklearn.ensemble import RandomForestClassifier\n",
    "from sklearn.model_selection import RandomizedSearchCV\n",
    "\n",
    "# Define the hyperparameter grid\n",
    "param_dist = {\n",
    "    'n_estimators': [100, 300, 500],\n",
    "    'max_depth': [None, 10, 20, 30],\n",
    "    'min_samples_split': [2, 5, 10],\n",
    "    'min_samples_leaf': [1, 2, 4],\n",
    "    'max_features': ['sqrt', 'log2'],\n",
    "    'class_weight': ['balanced', 'balanced_subsample']\n",
    "}\n",
    "\n",
    "# Initialize base model\n",
    "rf = RandomForestClassifier(random_state=42)\n",
    "\n",
    "# Set up randomized search\n",
    "rf_random = RandomizedSearchCV(\n",
    "    rf,\n",
    "    param_distributions=param_dist,\n",
    "    n_iter=20,\n",
    "    scoring='roc_auc',\n",
    "    cv=3,\n",
    "    verbose=1,\n",
    "    n_jobs=-1,\n",
    "    random_state=42\n",
    ")\n",
    "\n",
    "# Fit the search on training data\n",
    "rf_random.fit(X_train, y_train)\n",
    "\n",
    "# Best model\n",
    "best_rf = rf_random.best_estimator_\n",
    "\n",
    "# Predict and evaluate\n",
    "y_pred_rf = best_rf.predict(X_val)\n",
    "\n",
    "from sklearn.metrics import classification_report, confusion_matrix, roc_auc_score\n",
    "\n",
    "print(\"Best Random Forest Results:\")\n",
    "print(confusion_matrix(y_val, y_pred_rf))\n",
    "print(classification_report(y_val, y_pred_rf))\n",
    "print(\"ROC AUC Score:\", roc_auc_score(y_val, best_rf.predict_proba(X_val)[:, 1]))\n"
   ]
  },
  {
   "cell_type": "code",
   "execution_count": 93,
   "metadata": {},
   "outputs": [
    {
     "name": "stdout",
     "output_type": "stream",
     "text": [
      "[LightGBM] [Info] Number of positive: 37368, number of negative: 267519\n",
      "[LightGBM] [Info] Auto-choosing row-wise multi-threading, the overhead of testing was 0.007172 seconds.\n",
      "You can set `force_row_wise=true` to remove the overhead.\n",
      "And if memory is not enough, you can set `force_col_wise=true`.\n",
      "[LightGBM] [Info] Total Bins 734\n",
      "[LightGBM] [Info] Number of data points in the train set: 304887, number of used features: 10\n",
      "[LightGBM] [Info] [binary:BoostFromScore]: pavg=0.500000 -> initscore=0.000000\n",
      "[LightGBM] [Info] Start training from score 0.000000\n",
      "              precision    recall  f1-score   support\n",
      "\n",
      "           0       0.99      0.67      0.80     66880\n",
      "           1       0.28      0.93      0.43      9342\n",
      "\n",
      "    accuracy                           0.70     76222\n",
      "   macro avg       0.63      0.80      0.62     76222\n",
      "weighted avg       0.90      0.70      0.75     76222\n",
      "\n",
      "ROC AUC: 0.857770376445983\n"
     ]
    }
   ],
   "source": [
    "from lightgbm import LGBMClassifier\n",
    "\n",
    "lgbm = LGBMClassifier(class_weight='balanced', random_state=42)\n",
    "lgbm.fit(X_train, y_train)\n",
    "\n",
    "# Predict and evaluate\n",
    "y_pred = lgbm.predict(X_val)\n",
    "print(classification_report(y_val, y_pred))\n",
    "print(\"ROC AUC:\", roc_auc_score(y_val, lgbm.predict_proba(X_val)[:,1]))\n"
   ]
  },
  {
   "cell_type": "code",
   "execution_count": 92,
   "metadata": {},
   "outputs": [
    {
     "name": "stdout",
     "output_type": "stream",
     "text": [
      "Collecting lightgbm\n",
      "  Downloading lightgbm-4.6.0-py3-none-win_amd64.whl (1.5 MB)\n",
      "Requirement already satisfied: scipy in c:\\users\\user\\anaconda3\\envs\\learn-env\\lib\\site-packages (from lightgbm) (1.5.0)\n",
      "Requirement already satisfied: numpy>=1.17.0 in c:\\users\\user\\anaconda3\\envs\\learn-env\\lib\\site-packages (from lightgbm) (1.18.5)\n",
      "Installing collected packages: lightgbm\n",
      "Successfully installed lightgbm-4.6.0\n"
     ]
    }
   ],
   "source": [
    "!pip install lightgbm\n"
   ]
  },
  {
   "cell_type": "code",
   "execution_count": 94,
   "metadata": {},
   "outputs": [
    {
     "name": "stdout",
     "output_type": "stream",
     "text": [
      "\n",
      "--- Threshold: 0.3 ---\n",
      "Confusion Matrix:\n",
      "[[40355 26525]\n",
      " [  211  9131]]\n",
      "\n",
      "Classification Report:\n",
      "              precision    recall  f1-score   support\n",
      "\n",
      "           0       0.99      0.60      0.75     66880\n",
      "           1       0.26      0.98      0.41      9342\n",
      "\n",
      "    accuracy                           0.65     76222\n",
      "   macro avg       0.63      0.79      0.58     76222\n",
      "weighted avg       0.90      0.65      0.71     76222\n",
      "\n",
      "ROC AUC Score: 0.8579012958148569\n",
      "\n",
      "--- Threshold: 0.4 ---\n",
      "Confusion Matrix:\n",
      "[[41995 24885]\n",
      " [  320  9022]]\n",
      "\n",
      "Classification Report:\n",
      "              precision    recall  f1-score   support\n",
      "\n",
      "           0       0.99      0.63      0.77     66880\n",
      "           1       0.27      0.97      0.42      9342\n",
      "\n",
      "    accuracy                           0.67     76222\n",
      "   macro avg       0.63      0.80      0.59     76222\n",
      "weighted avg       0.90      0.67      0.73     76222\n",
      "\n",
      "ROC AUC Score: 0.8579012958148569\n",
      "\n",
      "--- Threshold: 0.5 ---\n",
      "Confusion Matrix:\n",
      "[[45181 21699]\n",
      " [  693  8649]]\n",
      "\n",
      "Classification Report:\n",
      "              precision    recall  f1-score   support\n",
      "\n",
      "           0       0.98      0.68      0.80     66880\n",
      "           1       0.28      0.93      0.44      9342\n",
      "\n",
      "    accuracy                           0.71     76222\n",
      "   macro avg       0.63      0.80      0.62     76222\n",
      "weighted avg       0.90      0.71      0.76     76222\n",
      "\n",
      "ROC AUC Score: 0.8579012958148569\n",
      "\n",
      "--- Threshold: 0.6 ---\n",
      "Confusion Matrix:\n",
      "[[49090 17790]\n",
      " [ 1372  7970]]\n",
      "\n",
      "Classification Report:\n",
      "              precision    recall  f1-score   support\n",
      "\n",
      "           0       0.97      0.73      0.84     66880\n",
      "           1       0.31      0.85      0.45      9342\n",
      "\n",
      "    accuracy                           0.75     76222\n",
      "   macro avg       0.64      0.79      0.65     76222\n",
      "weighted avg       0.89      0.75      0.79     76222\n",
      "\n",
      "ROC AUC Score: 0.8579012958148569\n",
      "\n",
      "--- Threshold: 0.7 ---\n",
      "Confusion Matrix:\n",
      "[[53960 12920]\n",
      " [ 2736  6606]]\n",
      "\n",
      "Classification Report:\n",
      "              precision    recall  f1-score   support\n",
      "\n",
      "           0       0.95      0.81      0.87     66880\n",
      "           1       0.34      0.71      0.46      9342\n",
      "\n",
      "    accuracy                           0.79     76222\n",
      "   macro avg       0.65      0.76      0.67     76222\n",
      "weighted avg       0.88      0.79      0.82     76222\n",
      "\n",
      "ROC AUC Score: 0.8579012958148569\n"
     ]
    }
   ],
   "source": [
    "import numpy as np\n",
    "from sklearn.metrics import confusion_matrix, classification_report, roc_auc_score\n",
    "\n",
    "# Get predicted probabilities for the positive class\n",
    "y_proba = best_model.predict_proba(X_val)[:, 1]\n",
    "\n",
    "# Try different thresholds\n",
    "thresholds = [0.3, 0.4, 0.5, 0.6, 0.7]\n",
    "\n",
    "for t in thresholds:\n",
    "    print(f\"\\n--- Threshold: {t} ---\")\n",
    "    y_pred_thresh = (y_proba >= t).astype(int)\n",
    "    \n",
    "    print(\"Confusion Matrix:\")\n",
    "    print(confusion_matrix(y_val, y_pred_thresh))\n",
    "    \n",
    "    print(\"\\nClassification Report:\")\n",
    "    print(classification_report(y_val, y_pred_thresh))\n",
    "    \n",
    "    print(\"ROC AUC Score:\", roc_auc_score(y_val, y_proba))\n"
   ]
  },
  {
   "cell_type": "code",
   "execution_count": 95,
   "metadata": {},
   "outputs": [
    {
     "data": {
      "image/png": "[encoded data removed]",
      "text/plain": [
       "<Figure size 720x432 with 1 Axes>"
      ]
     },
     "metadata": {
      "needs_background": "light"
     },
     "output_type": "display_data"
    }
   ],
   "source": [
    "import pandas as pd\n",
    "import matplotlib.pyplot as plt\n",
    "import seaborn as sns\n",
    "\n",
    "# Get feature importances\n",
    "importances = best_model.feature_importances_\n",
    "feat_imp = pd.Series(importances, index=X_train.columns).sort_values(ascending=False)\n",
    "\n",
    "# Plot top 15\n",
    "plt.figure(figsize=(10, 6))\n",
    "sns.barplot(x=feat_imp[:15], y=feat_imp.index[:15])\n",
    "plt.title(\"Top 15 Feature Importances\")\n",
    "plt.tight_layout()\n",
    "plt.show()\n"
   ]
  },
  {
   "cell_type": "code",
   "execution_count": 97,
   "metadata": {
    "scrolled": true
   },
   "outputs": [
    {
     "name": "stdout",
     "output_type": "stream",
     "text": [
      "Response                1.000000\n",
      "Age                     0.111147\n",
      "Annual_Premium          0.022575\n",
      "Region_Code             0.010570\n",
      "Driving_License         0.010155\n",
      "Vintage                -0.001050\n",
      "Policy_Sales_Channel   -0.139042\n",
      "Previously_Insured     -0.341170\n",
      "Name: Response, dtype: float64\n"
     ]
    }
   ],
   "source": [
    "# Quick correlation check\n",
    "# Select only numeric columns\n",
    "numeric_df = train_df.select_dtypes(include='number')\n",
    "\n",
    "# Compute correlation with Response\n",
    "correlations = numeric_df.corr()['Response'].sort_values(ascending=False)\n",
    "print(correlations)\n",
    "\n"
   ]
  },
  {
   "cell_type": "code",
   "execution_count": 98,
   "metadata": {},
   "outputs": [],
   "source": [
    "# Drop selected features from encoded datasets\n",
    "drop_cols = ['Vintage', 'Region_Code', 'Driving_License']\n",
    "\n",
    "X_train_selected = X_train.drop(columns=drop_cols, errors='ignore')\n",
    "X_val_selected   = X_val.drop(columns=drop_cols, errors='ignore')\n",
    "\n"
   ]
  },
  {
   "cell_type": "code",
   "execution_count": 99,
   "metadata": {},
   "outputs": [
    {
     "name": "stdout",
     "output_type": "stream",
     "text": [
      "[[58780  8100]\n",
      " [ 5932  3410]]\n",
      "              precision    recall  f1-score   support\n",
      "\n",
      "           0       0.91      0.88      0.89     66880\n",
      "           1       0.30      0.37      0.33      9342\n",
      "\n",
      "    accuracy                           0.82     76222\n",
      "   macro avg       0.60      0.62      0.61     76222\n",
      "weighted avg       0.83      0.82      0.82     76222\n",
      "\n",
      "ROC AUC Score: 0.7961274403604034\n"
     ]
    }
   ],
   "source": [
    "from sklearn.ensemble import RandomForestClassifier\n",
    "from sklearn.metrics import classification_report, confusion_matrix, roc_auc_score\n",
    "\n",
    "# Initialize model\n",
    "rf_model = RandomForestClassifier(n_estimators=200, random_state=42, class_weight='balanced')\n",
    "\n",
    "# Fit model\n",
    "rf_model.fit(X_train_selected, y_train)\n",
    "\n",
    "# Predict on validation set\n",
    "y_pred = rf_model.predict(X_val_selected)\n",
    "y_proba = rf_model.predict_proba(X_val_selected)[:, 1]\n",
    "\n",
    "# Evaluate\n",
    "print(confusion_matrix(y_val, y_pred))\n",
    "print(classification_report(y_val, y_pred))\n",
    "print(\"ROC AUC Score:\", roc_auc_score(y_val, y_proba))\n"
   ]
  },
  {
   "cell_type": "code",
   "execution_count": 100,
   "metadata": {},
   "outputs": [
    {
     "name": "stdout",
     "output_type": "stream",
     "text": [
      "\n",
      "Testing with: Vintage\n",
      "[[35191 31689]\n",
      " [ 4896  4446]]\n",
      "              precision    recall  f1-score   support\n",
      "\n",
      "           0       0.88      0.53      0.66     66880\n",
      "           1       0.12      0.48      0.20      9342\n",
      "\n",
      "    accuracy                           0.52     76222\n",
      "   macro avg       0.50      0.50      0.43     76222\n",
      "weighted avg       0.79      0.52      0.60     76222\n",
      "\n",
      "\n",
      "Testing with: Region_Code\n",
      "[[38527 28353]\n",
      " [ 3706  5636]]\n",
      "              precision    recall  f1-score   support\n",
      "\n",
      "           0       0.91      0.58      0.71     66880\n",
      "           1       0.17      0.60      0.26      9342\n",
      "\n",
      "    accuracy                           0.58     76222\n",
      "   macro avg       0.54      0.59      0.48     76222\n",
      "weighted avg       0.82      0.58      0.65     76222\n",
      "\n",
      "\n",
      "Testing with: Driving_License\n",
      "[[  151 66729]\n",
      " [    7  9335]]\n",
      "              precision    recall  f1-score   support\n",
      "\n",
      "           0       0.96      0.00      0.00     66880\n",
      "           1       0.12      1.00      0.22      9342\n",
      "\n",
      "    accuracy                           0.12     76222\n",
      "   macro avg       0.54      0.50      0.11     76222\n",
      "weighted avg       0.85      0.12      0.03     76222\n",
      "\n"
     ]
    }
   ],
   "source": [
    "X_train_1 = X_train.copy()\n",
    "X_val_1 = X_val.copy()\n",
    "\n",
    "for col in ['Vintage', 'Region_Code', 'Driving_License']:\n",
    "    print(f\"\\nTesting with: {col}\")\n",
    "    model = RandomForestClassifier(n_estimators=200, random_state=42, class_weight='balanced')\n",
    "    model.fit(X_train_1[[col]], y_train)\n",
    "    y_pred = model.predict(X_val_1[[col]])\n",
    "    print(confusion_matrix(y_val, y_pred))\n",
    "    print(classification_report(y_val, y_pred))\n"
   ]
  },
  {
   "cell_type": "code",
   "execution_count": 101,
   "metadata": {},
   "outputs": [],
   "source": [
    "X_filtered = X_encoded_df.drop(columns=['Driving_License', 'Vintage'])  # keep Region_Code\n"
   ]
  },
  {
   "cell_type": "code",
   "execution_count": 102,
   "metadata": {},
   "outputs": [
    {
     "name": "stdout",
     "output_type": "stream",
     "text": [
      "[00:16:15] WARNING: C:\\Users\\Administrator\\workspace\\xgboost-win64_release_1.2.0\\src\\learner.cc:516: \n",
      "Parameters: { use_label_encoder } might not be used.\n",
      "\n",
      "  This may not be accurate due to some parameters are only used in language bindings but\n",
      "  passed down to XGBoost core.  Or some parameters are not used but slip through this\n",
      "  verification. Please open an issue if you find above cases.\n",
      "\n",
      "\n",
      "              precision    recall  f1-score   support\n",
      "\n",
      "           0       0.98      0.69      0.81     66880\n",
      "           1       0.29      0.91      0.44      9342\n",
      "\n",
      "    accuracy                           0.72     76222\n",
      "   macro avg       0.64      0.80      0.62     76222\n",
      "weighted avg       0.90      0.72      0.76     76222\n",
      "\n",
      "ROC AUC: 0.8565638143553986\n"
     ]
    }
   ],
   "source": [
    "X_train, X_val, y_train, y_val = train_test_split(X_filtered, y, test_size=0.2, random_state=42, stratify=y)\n",
    "\n",
    "# Train your best model (RandomForest or XGBoost)\n",
    "model = XGBClassifier(use_label_encoder=False, eval_metric='logloss', scale_pos_weight=7, random_state=42)\n",
    "model.fit(X_train, y_train)\n",
    "\n",
    "y_pred = model.predict(X_val)\n",
    "y_proba = model.predict_proba(X_val)[:, 1]\n",
    "\n",
    "print(classification_report(y_val, y_pred))\n",
    "print(\"ROC AUC:\", roc_auc_score(y_val, y_proba))\n"
   ]
  },
  {
   "cell_type": "code",
   "execution_count": 103,
   "metadata": {},
   "outputs": [
    {
     "name": "stdout",
     "output_type": "stream",
     "text": [
      "\n",
      "Threshold: 0.3\n",
      "[[41045 25835]\n",
      " [  268  9074]]\n",
      "              precision    recall  f1-score   support\n",
      "\n",
      "           0       0.99      0.61      0.76     66880\n",
      "           1       0.26      0.97      0.41      9342\n",
      "\n",
      "    accuracy                           0.66     76222\n",
      "   macro avg       0.63      0.79      0.58     76222\n",
      "weighted avg       0.90      0.66      0.72     76222\n",
      "\n",
      "ROC AUC: 0.8565638143553986\n",
      "\n",
      "Threshold: 0.4\n",
      "[[43367 23513]\n",
      " [  498  8844]]\n",
      "              precision    recall  f1-score   support\n",
      "\n",
      "           0       0.99      0.65      0.78     66880\n",
      "           1       0.27      0.95      0.42      9342\n",
      "\n",
      "    accuracy                           0.68     76222\n",
      "   macro avg       0.63      0.80      0.60     76222\n",
      "weighted avg       0.90      0.68      0.74     76222\n",
      "\n",
      "ROC AUC: 0.8565638143553986\n",
      "\n",
      "Threshold: 0.5\n",
      "[[46119 20761]\n",
      " [  871  8471]]\n",
      "              precision    recall  f1-score   support\n",
      "\n",
      "           0       0.98      0.69      0.81     66880\n",
      "           1       0.29      0.91      0.44      9342\n",
      "\n",
      "    accuracy                           0.72     76222\n",
      "   macro avg       0.64      0.80      0.62     76222\n",
      "weighted avg       0.90      0.72      0.76     76222\n",
      "\n",
      "ROC AUC: 0.8565638143553986\n",
      "\n",
      "Threshold: 0.6\n",
      "[[49769 17111]\n",
      " [ 1571  7771]]\n",
      "              precision    recall  f1-score   support\n",
      "\n",
      "           0       0.97      0.74      0.84     66880\n",
      "           1       0.31      0.83      0.45      9342\n",
      "\n",
      "    accuracy                           0.75     76222\n",
      "   macro avg       0.64      0.79      0.65     76222\n",
      "weighted avg       0.89      0.75      0.79     76222\n",
      "\n",
      "ROC AUC: 0.8565638143553986\n"
     ]
    }
   ],
   "source": [
    "import numpy as np\n",
    "from sklearn.metrics import classification_report, roc_auc_score, confusion_matrix\n",
    "\n",
    "# Predict probabilities\n",
    "y_proba = model.predict_proba(X_val)[:, 1]\n",
    "\n",
    "# Try threshold tuning\n",
    "for threshold in [0.3, 0.4, 0.5, 0.6]:\n",
    "    print(f\"\\nThreshold: {threshold}\")\n",
    "    y_pred_thresh = (y_proba >= threshold).astype(int)\n",
    "    print(confusion_matrix(y_val, y_pred_thresh))\n",
    "    print(classification_report(y_val, y_pred_thresh))\n",
    "    print(\"ROC AUC:\", roc_auc_score(y_val, y_proba))\n"
   ]
  },
  {
   "cell_type": "code",
   "execution_count": 104,
   "metadata": {},
   "outputs": [
    {
     "name": "stdout",
     "output_type": "stream",
     "text": [
      "[[49769 17111]\n",
      " [ 1571  7771]]\n",
      "              precision    recall  f1-score   support\n",
      "\n",
      "           0       0.97      0.74      0.84     66880\n",
      "           1       0.31      0.83      0.45      9342\n",
      "\n",
      "    accuracy                           0.75     76222\n",
      "   macro avg       0.64      0.79      0.65     76222\n",
      "weighted avg       0.89      0.75      0.79     76222\n",
      "\n"
     ]
    }
   ],
   "source": [
    "# Final prediction with tuned threshold\n",
    "y_val_proba = model.predict_proba(X_val)[:, 1]\n",
    "y_val_pred_final = (y_val_proba >= 0.6).astype(int)\n",
    "\n",
    "# Evaluate\n",
    "from sklearn.metrics import classification_report, confusion_matrix\n",
    "print(confusion_matrix(y_val, y_val_pred_final))\n",
    "print(classification_report(y_val, y_val_pred_final))\n"
   ]
  },
  {
   "cell_type": "code",
   "execution_count": null,
   "metadata": {},
   "outputs": [],
   "source": []
  }
 ],
 "metadata": {
  "kernelspec": {
   "display_name": "Python (learn-env)",
   "language": "python",
   "name": "learn-env"
  },
  "language_info": {
   "codemirror_mode": {
    "name": "ipython",
    "version": 3
   },
   "file_extension": ".py",
   "mimetype": "text/x-python",
   "name": "python",
   "nbconvert_exporter": "python",
   "pygments_lexer": "ipython3",
   "version": "3.8.5"
  }
 },
 "nbformat": 4,
 "nbformat_minor": 4
}
